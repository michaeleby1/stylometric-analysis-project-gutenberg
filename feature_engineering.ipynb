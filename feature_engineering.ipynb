{
 "cells": [
  {
   "cell_type": "code",
   "execution_count": 1,
   "metadata": {},
   "outputs": [],
   "source": [
    "from stylometry import *\n",
    "import pymongo\n",
    "import time\n",
    "import multiprocessing as mp\n",
    "import pandas as pd\n",
    "from pandas.io.json import json_normalize\n",
    "import warnings\n",
    "warnings.filterwarnings('ignore')\n",
    "\n",
    "import spacy\n",
    "#import en_core_web_lg\n",
    "import en_core_web_md"
   ]
  },
  {
   "cell_type": "code",
   "execution_count": 2,
   "metadata": {},
   "outputs": [],
   "source": [
    "## connect the database to my virtual machine\n",
    "client = pymongo.MongoClient('mongodb://localhost/')\n",
    "db = client['gutenberg_db']\n",
    "collection = db['gutenberg_collection']"
   ]
  },
  {
   "cell_type": "code",
   "execution_count": 3,
   "metadata": {},
   "outputs": [
    {
     "data": {
      "text/plain": [
       "Collection(Database(MongoClient(host=['localhost:27017'], document_class=dict, tz_aware=False, connect=True), 'gutenberg_db'), 'gutenberg_collection')"
      ]
     },
     "execution_count": 3,
     "metadata": {},
     "output_type": "execute_result"
    }
   ],
   "source": [
    "collection"
   ]
  },
  {
   "cell_type": "code",
   "execution_count": 5,
   "metadata": {},
   "outputs": [],
   "source": [
    "text = collection.find({'file': 'project_gutenberg/51185.txt'}, {'text': 1})[0]['text']"
   ]
  },
  {
   "cell_type": "code",
   "execution_count": 6,
   "metadata": {},
   "outputs": [
    {
     "name": "stdout",
     "output_type": "stream",
     "text": [
      "Took 1.6460483074188232s to process\n"
     ]
    }
   ],
   "source": [
    "s = time.time()\n",
    "doc = nlp(text)\n",
    "tokens = [token.orth_.lower() for token in doc if not token.is_punct and token if not token.is_stop]\n",
    "sentences = [sent.string.strip() for sent in doc.sents]\n",
    "print(f'Took {time.time() - s}s to process')"
   ]
  },
  {
   "cell_type": "code",
   "execution_count": 7,
   "metadata": {},
   "outputs": [
    {
     "data": {
      "text/plain": [
       "0.627"
      ]
     },
     "execution_count": 7,
     "metadata": {},
     "output_type": "execute_result"
    }
   ],
   "source": [
    "sttr(tokens)"
   ]
  },
  {
   "cell_type": "code",
   "execution_count": 8,
   "metadata": {},
   "outputs": [
    {
     "data": {
      "text/plain": [
       "0.486"
      ]
     },
     "execution_count": 8,
     "metadata": {},
     "output_type": "execute_result"
    }
   ],
   "source": [
    "hapax_legomenon(tokens)"
   ]
  },
  {
   "cell_type": "code",
   "execution_count": 9,
   "metadata": {},
   "outputs": [
    {
     "data": {
      "text/plain": [
       "1703.7019456860444"
      ]
     },
     "execution_count": 9,
     "metadata": {},
     "output_type": "execute_result"
    }
   ],
   "source": [
    "yules_k(tokens)"
   ]
  },
  {
   "cell_type": "code",
   "execution_count": 10,
   "metadata": {},
   "outputs": [
    {
     "data": {
      "text/plain": [
       "0.32435685271551074"
      ]
     },
     "execution_count": 10,
     "metadata": {},
     "output_type": "execute_result"
    }
   ],
   "source": [
    "function_words(doc)"
   ]
  },
  {
   "cell_type": "code",
   "execution_count": 11,
   "metadata": {},
   "outputs": [
    {
     "data": {
      "text/plain": [
       "8.565289256198348"
      ]
     },
     "execution_count": 11,
     "metadata": {},
     "output_type": "execute_result"
    }
   ],
   "source": [
    "avg_sentence_length_word(sentences)"
   ]
  },
  {
   "cell_type": "code",
   "execution_count": 12,
   "metadata": {},
   "outputs": [
    {
     "data": {
      "text/plain": [
       "49.239669421487605"
      ]
     },
     "execution_count": 12,
     "metadata": {},
     "output_type": "execute_result"
    }
   ],
   "source": [
    "avg_sentence_length_chars(sentences)"
   ]
  },
  {
   "cell_type": "code",
   "execution_count": 13,
   "metadata": {},
   "outputs": [
    {
     "data": {
      "text/plain": [
       "1.7941299790356393"
      ]
     },
     "execution_count": 13,
     "metadata": {},
     "output_type": "execute_result"
    }
   ],
   "source": [
    "avg_syllables_per_word(tokens)"
   ]
  },
  {
   "cell_type": "code",
   "execution_count": 14,
   "metadata": {},
   "outputs": [
    {
     "data": {
      "text/plain": [
       "2.6743801652892563"
      ]
     },
     "execution_count": 14,
     "metadata": {},
     "output_type": "execute_result"
    }
   ],
   "source": [
    "punctuation_sentence(sentences)"
   ]
  },
  {
   "cell_type": "code",
   "execution_count": 15,
   "metadata": {},
   "outputs": [
    {
     "data": {
      "text/plain": [
       "9.51165465635602"
      ]
     },
     "execution_count": 15,
     "metadata": {},
     "output_type": "execute_result"
    }
   ],
   "source": [
    "shannon_entropy(tokens)"
   ]
  },
  {
   "cell_type": "code",
   "execution_count": 16,
   "metadata": {},
   "outputs": [
    {
     "data": {
      "text/plain": [
       "0.9968982595359701"
      ]
     },
     "execution_count": 16,
     "metadata": {},
     "output_type": "execute_result"
    }
   ],
   "source": [
    "simpsons_d(tokens)"
   ]
  },
  {
   "cell_type": "code",
   "execution_count": 17,
   "metadata": {},
   "outputs": [
    {
     "data": {
      "text/plain": [
       "221.16666666666666"
      ]
     },
     "execution_count": 17,
     "metadata": {},
     "output_type": "execute_result"
    }
   ],
   "source": [
    "average_nps(doc)"
   ]
  },
  {
   "cell_type": "code",
   "execution_count": 18,
   "metadata": {},
   "outputs": [
    {
     "data": {
      "text/plain": [
       "0.586852207293666"
      ]
     },
     "execution_count": 18,
     "metadata": {},
     "output_type": "execute_result"
    }
   ],
   "source": [
    "noun_to_verb(doc)"
   ]
  },
  {
   "cell_type": "code",
   "execution_count": 19,
   "metadata": {},
   "outputs": [
    {
     "data": {
      "text/plain": [
       "0.8235690235690236"
      ]
     },
     "execution_count": 19,
     "metadata": {},
     "output_type": "execute_result"
    }
   ],
   "source": [
    "noun_to_adj(doc)"
   ]
  },
  {
   "cell_type": "code",
   "execution_count": 20,
   "metadata": {},
   "outputs": [
    {
     "data": {
      "text/plain": [
       "0.6926790024135157"
      ]
     },
     "execution_count": 20,
     "metadata": {},
     "output_type": "execute_result"
    }
   ],
   "source": [
    "verb_to_adv(doc)"
   ]
  },
  {
   "cell_type": "code",
   "execution_count": 21,
   "metadata": {},
   "outputs": [
    {
     "data": {
      "text/plain": [
       "2.0988422371735185"
      ]
     },
     "execution_count": 21,
     "metadata": {},
     "output_type": "execute_result"
    }
   ],
   "source": [
    "avg_dependency_distance(doc)"
   ]
  },
  {
   "cell_type": "code",
   "execution_count": 22,
   "metadata": {},
   "outputs": [
    {
     "name": "stdout",
     "output_type": "stream",
     "text": [
      "Took 0.8566100597381592s to process project_gutenberg/51185.txt\n"
     ]
    }
   ],
   "source": [
    "get_style_metrics('project_gutenberg/51185.txt')"
   ]
  },
  {
   "cell_type": "markdown",
   "metadata": {},
   "source": [
    "### Mongo Upload"
   ]
  },
  {
   "cell_type": "code",
   "execution_count": 32,
   "metadata": {},
   "outputs": [
    {
     "name": "stdout",
     "output_type": "stream",
     "text": [
      "23294\n"
     ]
    }
   ],
   "source": [
    "filelist = [doc['file'] for doc in collection.find({}, {'file': 1})]\n",
    "print(len(filelist))"
   ]
  },
  {
   "cell_type": "code",
   "execution_count": 7,
   "metadata": {},
   "outputs": [
    {
     "name": "stdout",
     "output_type": "stream",
     "text": [
      "4898\n"
     ]
    }
   ],
   "source": [
    "filelist = list(df[df['yules_k'].isnull()].file.values)\n",
    "print(len(filelist))"
   ]
  },
  {
   "cell_type": "code",
   "execution_count": null,
   "metadata": {
    "scrolled": true
   },
   "outputs": [
    {
     "name": "stdout",
     "output_type": "stream",
     "text": [
      "Took 21.433281421661377s to process project_gutenberg/42386.txt\n",
      "Took 10.250550270080566s to process project_gutenberg/37528.txt\n",
      "Took 1.3608670234680176s to process project_gutenberg/40204.txt\n",
      "Took 1.9739973545074463s to process project_gutenberg/42383.txt\n",
      "Took 26.571258544921875s to process project_gutenberg/37523.txt\n",
      "Took 10.340190649032593s to process project_gutenberg/40203.txt\n",
      "Took 0.35340046882629395s to process project_gutenberg/37521.txt\n",
      "Took 3.9193222522735596s to process project_gutenberg/40201-0.txt\n",
      "Took 15.039881706237793s to process project_gutenberg/44900.txt\n",
      "Took 0.867194414138794s to process project_gutenberg/40200.txt\n",
      "Took 19.6598002910614s to process project_gutenberg/37519.txt\n",
      "Took 9.821786880493164s to process project_gutenberg/4020.txt\n",
      "Took 111.7565770149231s to process project_gutenberg/44851.txt\n",
      "Took 5.7292160987854s to process project_gutenberg/37467.txt\n",
      "Took 1.582223653793335s to process project_gutenberg/44850.txt\n",
      "Took 29.69178032875061s to process project_gutenberg/40151.txt\n",
      "Took 4.5588884353637695s to process project_gutenberg/4485.txt\n",
      "Took 4.209881544113159s to process project_gutenberg/42327.txt\n",
      "Took 10.845388412475586s to process project_gutenberg/37466.txt\n",
      "Took 2.6057956218719482s to process project_gutenberg/4015.txt\n",
      "Took 5.8313562870025635s to process project_gutenberg/44849.txt\n",
      "Took 5.07804536819458s to process project_gutenberg/44848.txt\n",
      "Took 2.53753399848938s to process project_gutenberg/37464.txt\n",
      "Took 9.365527391433716s to process project_gutenberg/40148.txt\n",
      "Took 18.543590307235718s to process project_gutenberg/4232-0.txt\n",
      "Took 23.394506454467773s to process project_gutenberg/40147.txt\n",
      "Took 16.75950002670288s to process project_gutenberg/44844.txt\n",
      "Took 24.20481562614441s to process project_gutenberg/3746.txt\n",
      "Took 15.560646057128906s to process project_gutenberg/44842-0.txt\n",
      "Took 49.04057741165161s to process project_gutenberg/42315.txt\n",
      "Took 10.093096256256104s to process project_gutenberg/37459.txt\n",
      "Took 17.099407196044922s to process project_gutenberg/40142.txt\n",
      "Took 4.823076009750366s to process project_gutenberg/4484.txt\n",
      "Took 24.389323711395264s to process project_gutenberg/42313.txt\n",
      "Took 0.8881356716156006s to process project_gutenberg/37456.txt\n",
      "Took 28.221153736114502s to process project_gutenberg/40140.txt\n",
      "Took 10.008613348007202s to process project_gutenberg/37455.txt\n",
      "Took 12.03675103187561s to process project_gutenberg/4014.txt\n",
      "Took 20.422489166259766s to process project_gutenberg/4231.txt\n",
      "Took 8.886164426803589s to process project_gutenberg/37454.txt\n",
      "Took 15.218117237091064s to process project_gutenberg/40137.txt\n",
      "Took 105.89197325706482s to process project_gutenberg/44837.txt\n",
      "Took 10.196567296981812s to process project_gutenberg/42309.txt\n",
      "Took 20.11782956123352s to process project_gutenberg/42308.txt\n",
      "Took 40.93484377861023s to process project_gutenberg/44833.txt\n",
      "Took 29.793743133544922s to process project_gutenberg/40135.txt\n",
      "Took 5.572455406188965s to process project_gutenberg/4483.txt\n",
      "Took 23.2010235786438s to process project_gutenberg/40133.txt\n",
      "Took 20.168627738952637s to process project_gutenberg/44828.txt\n",
      "Took 7.277187824249268s to process project_gutenberg/37446.txt\n",
      "Took 8.641558647155762s to process project_gutenberg/40132.txt\n",
      "Took 20.720755100250244s to process project_gutenberg/44827.txt\n",
      "Took 11.149091243743896s to process project_gutenberg/423.txt\n",
      "Took 3.50584077835083s to process project_gutenberg/37444.txt\n",
      "Took 37.12381720542908s to process project_gutenberg/40131-0.txt\n",
      "Took 0.5430927276611328s to process project_gutenberg/37443.txt\n",
      "Took 2.3839919567108154s to process project_gutenberg/44823.txt\n",
      "Took 6.775304317474365s to process project_gutenberg/42296.txt\n",
      "Took 0.8445675373077393s to process project_gutenberg/40130.txt\n",
      "Took 29.45339322090149s to process project_gutenberg/44822.txt\n",
      "Took 180.81235909461975s to process project_gutenberg/40074-0.txt\n",
      "Took 14.6395103931427s to process project_gutenberg/42225.txt\n",
      "Took 1.331346035003662s to process project_gutenberg/44759.txt\n",
      "Took 27.254305362701416s to process project_gutenberg/3739.txt\n",
      "Took 27.262437105178833s to process project_gutenberg/42224.txt\n",
      "Took 15.319460391998291s to process project_gutenberg/40071.txt\n",
      "Took 2.7383968830108643s to process project_gutenberg/44753.txt\n",
      "Took 5.617133617401123s to process project_gutenberg/37388.txt\n",
      "Took 9.740332841873169s to process project_gutenberg/44752.txt\n",
      "Took 4.9632813930511475s to process project_gutenberg/4007-0.txt\n",
      "Took 12.961667537689209s to process project_gutenberg/44751.txt\n",
      "Took 14.98446011543274s to process project_gutenberg/40069.txt\n",
      "Took 1.7061121463775635s to process project_gutenberg/37383.txt\n",
      "Took 10.299615383148193s to process project_gutenberg/44750.txt\n",
      "Took 7.0496580600738525s to process project_gutenberg/37381.txt\n",
      "Took 4.552335739135742s to process project_gutenberg/4475.txt\n",
      "Took 7.830597877502441s to process project_gutenberg/40067.txt\n",
      "Took 48.707913398742676s to process project_gutenberg/42220.txt\n",
      "Took 1.3027565479278564s to process project_gutenberg/40065.txt\n",
      "Took 10.450932502746582s to process project_gutenberg/3738.txt\n",
      "Took 2.8082058429718018s to process project_gutenberg/4222.txt\n",
      "Took 29.21175765991211s to process project_gutenberg/44747.txt\n",
      "Took 4.028986930847168s to process project_gutenberg/42218-0.txt\n",
      "Took 11.650168895721436s to process project_gutenberg/40063.txt\n",
      "Took 2.0240378379821777s to process project_gutenberg/42216.txt\n",
      "Took 13.523636817932129s to process project_gutenberg/40062-0.txt\n",
      "Took 8.337363958358765s to process project_gutenberg/44745.txt\n",
      "Took 0.04784536361694336s to process project_gutenberg/44743.txt\n",
      "Took 6.996492624282837s to process project_gutenberg/37374.txt\n",
      "Took 1.5832502841949463s to process project_gutenberg/42209.txt\n",
      "Took 6.180309534072876s to process project_gutenberg/44742.txt\n",
      "Took 7.495187282562256s to process project_gutenberg/44741.txt\n",
      "Took 16.233737230300903s to process project_gutenberg/40059.txt\n",
      "Took 5.790186166763306s to process project_gutenberg/42206.txt\n",
      "Took 2.2038538455963135s to process project_gutenberg/37371.txt\n",
      "Took 21.01884365081787s to process project_gutenberg/42205.txt\n",
      "Took 5.78770112991333s to process project_gutenberg/4474.txt\n",
      "Took 34.467461824417114s to process project_gutenberg/40058.txt\n",
      "Took 9.159348964691162s to process project_gutenberg/37370.txt\n",
      "Took 2.3141913414001465s to process project_gutenberg/42204.txt\n",
      "Took 30.384552478790283s to process project_gutenberg/40057.txt\n",
      "Took 7.452109336853027s to process project_gutenberg/3737.txt\n",
      "Took 15.333398818969727s to process project_gutenberg/42202.txt\n",
      "Took 10.368720769882202s to process project_gutenberg/37369.txt\n",
      "Took 1.7005960941314697s to process project_gutenberg/42201.txt\n",
      "Took 3.357778549194336s to process project_gutenberg/44734.txt\n",
      "Took 1.9670281410217285s to process project_gutenberg/37368.txt\n",
      "Took 7.589383840560913s to process project_gutenberg/40054.txt\n",
      "Took 15.999868154525757s to process project_gutenberg/44733.txt\n",
      "Took 1.0069453716278076s to process project_gutenberg/37367.txt\n",
      "Took 41.09013772010803s to process project_gutenberg/42200.txt\n",
      "Took 0.6431317329406738s to process project_gutenberg/37366.txt\n",
      "Took 12.703327417373657s to process project_gutenberg/44732.txt\n",
      "Took 9.880763530731201s to process project_gutenberg/37364.txt\n",
      "Took 2.944584846496582s to process project_gutenberg/37363.txt\n",
      "Took 14.793717622756958s to process project_gutenberg/40048.txt\n",
      "Took 6.834721803665161s to process project_gutenberg/37362.txt\n",
      "Took 4.534145832061768s to process project_gutenberg/4473.txt\n",
      "Took 7.797252893447876s to process project_gutenberg/44729.txt\n",
      "Took 1.612025260925293s to process project_gutenberg/42196.txt\n",
      "Took 31.67881464958191s to process project_gutenberg/37361.txt\n",
      "Took 14.451566457748413s to process project_gutenberg/42195.txt\n",
      "Took 15.334599018096924s to process project_gutenberg/44727.txt\n",
      "Took 17.305624961853027s to process project_gutenberg/40044.txt\n",
      "Took 7.496883392333984s to process project_gutenberg/3736.txt\n",
      "Took 19.29816961288452s to process project_gutenberg/44726.txt\n",
      "Took 2.9181501865386963s to process project_gutenberg/40042.txt\n",
      "Took 7.5199902057647705s to process project_gutenberg/42191.txt\n",
      "Took 7.812270641326904s to process project_gutenberg/37357.txt\n",
      "Took 14.303863525390625s to process project_gutenberg/42190.txt\n"
     ]
    },
    {
     "name": "stdout",
     "output_type": "stream",
     "text": [
      "Took 11.031864643096924s to process project_gutenberg/44724.txt\n",
      "Took 0.5215117931365967s to process project_gutenberg/37356.txt\n",
      "Took 5.059277057647705s to process project_gutenberg/4004.txt\n",
      "Took 4.93714451789856s to process project_gutenberg/37355.txt\n",
      "Took 9.241450309753418s to process project_gutenberg/40038.txt\n",
      "Took 42.14813303947449s to process project_gutenberg/44721.txt\n",
      "Took 1.7069156169891357s to process project_gutenberg/40037.txt\n",
      "Took 4.4872612953186035s to process project_gutenberg/37353-0.txt\n",
      "Took 2.979051113128662s to process project_gutenberg/44720.txt\n",
      "Took 3.60111141204834s to process project_gutenberg/4472.txt\n",
      "Took 1.619999647140503s to process project_gutenberg/42188.txt\n",
      "Took 3.1327617168426514s to process project_gutenberg/42187.txt\n",
      "Took 4.584988832473755s to process project_gutenberg/40035.txt\n",
      "Took 8.045928716659546s to process project_gutenberg/44716.txt\n",
      "Took 1.4230000972747803s to process project_gutenberg/42185.txt\n",
      "Took 13.141314029693604s to process project_gutenberg/40034.txt\n",
      "Took 2.15535569190979s to process project_gutenberg/44712.txt\n",
      "Took 9.646525859832764s to process project_gutenberg/37348.txt\n",
      "Took 1.5248613357543945s to process project_gutenberg/42183.txt\n",
      "Took 3.297609567642212s to process project_gutenberg/40033.txt\n",
      "Took 5.7305402755737305s to process project_gutenberg/4471.txt\n",
      "Took 0.9244608879089355s to process project_gutenberg/44708.txt\n",
      "Took 15.27696704864502s to process project_gutenberg/40032.txt\n",
      "Took 1.104865312576294s to process project_gutenberg/44707.txt\n",
      "Took 24.431591510772705s to process project_gutenberg/42180.txt\n",
      "Took 15.216435194015503s to process project_gutenberg/37344.txt\n",
      "Took 17.728578329086304s to process project_gutenberg/44704.txt\n",
      "Took 8.448938369750977s to process project_gutenberg/37343.txt\n",
      "Took 20.51143765449524s to process project_gutenberg/40029-0.txt\n",
      "Took 33.04593515396118s to process project_gutenberg/42179.txt\n",
      "Took 7.095014333724976s to process project_gutenberg/37342.txt\n",
      "Took 14.769939422607422s to process project_gutenberg/37341.txt\n",
      "Took 4.5027971267700195s to process project_gutenberg/44701.txt\n",
      "Took 13.85192084312439s to process project_gutenberg/40022.txt\n",
      "Took 6.5769078731536865s to process project_gutenberg/42174.txt\n",
      "Took 16.953258752822876s to process project_gutenberg/37339.txt\n",
      "Took 3.083026170730591s to process project_gutenberg/447.txt\n",
      "Took 15.295127630233765s to process project_gutenberg/40021.txt\n",
      "Took 7.9715735912323s to process project_gutenberg/44695.txt\n",
      "Took 6.620999336242676s to process project_gutenberg/44693.txt\n",
      "Took 48.81381821632385s to process project_gutenberg/42172.txt\n",
      "Took 24.178760051727295s to process project_gutenberg/4002.txt\n",
      "Took 11.528459548950195s to process project_gutenberg/37336.txt\n",
      "Took 19.77062439918518s to process project_gutenberg/44692.txt\n",
      "Took 48.167362213134766s to process project_gutenberg/42172-0.txt\n",
      "Took 0.9371140003204346s to process project_gutenberg/42171.txt\n",
      "Took 9.835540533065796s to process project_gutenberg/37332.txt\n",
      "Took 1.6629619598388672s to process project_gutenberg/40016.txt\n",
      "Took 7.350983142852783s to process project_gutenberg/37331.txt\n",
      "Took 9.709822416305542s to process project_gutenberg/44688.txt\n",
      "Took 11.884854078292847s to process project_gutenberg/4217-0.txt\n",
      "Took 20.437750577926636s to process project_gutenberg/40014.txt\n",
      "Took 7.747136831283569s to process project_gutenberg/3733.txt\n",
      "Took 23.995105504989624s to process project_gutenberg/44686.txt\n",
      "Took 5.5992937088012695s to process project_gutenberg/37329.txt\n",
      "Took 1.2387213706970215s to process project_gutenberg/42166-0.txt\n",
      "Took 27.704850435256958s to process project_gutenberg/44685.txt\n",
      "Took 12.416985034942627s to process project_gutenberg/42164.txt\n",
      "Took 1.5627872943878174s to process project_gutenberg/37326.txt\n",
      "Took 1.0944361686706543s to process project_gutenberg/42163.txt\n",
      "Took 4.641390800476074s to process project_gutenberg/40008.txt\n",
      "Took 7.21232795715332s to process project_gutenberg/40006.txt\n",
      "Took 34.13939905166626s to process project_gutenberg/44682.txt\n",
      "Took 5.717957019805908s to process project_gutenberg/44681.txt\n",
      "Took 14.907449960708618s to process project_gutenberg/40004.txt\n",
      "Took 13.46997618675232s to process project_gutenberg/37320.txt\n",
      "Took 18.66983699798584s to process project_gutenberg/44680.txt\n",
      "Took 0.6888296604156494s to process project_gutenberg/42156.txt\n",
      "Took 4.9464099407196045s to process project_gutenberg/40002.txt\n",
      "Took 6.8564453125s to process project_gutenberg/42155.txt\n",
      "Took 1.1263468265533447s to process project_gutenberg/44679.txt\n",
      "Took 9.981790781021118s to process project_gutenberg/40000.txt\n",
      "Took 15.543405055999756s to process project_gutenberg/37313.txt\n",
      "Took 3.9148383140563965s to process project_gutenberg/42152.txt\n",
      "Took 11.911603450775146s to process project_gutenberg/37311.txt\n",
      "Took 10.496533393859863s to process project_gutenberg/42150.txt\n",
      "Took 10.655217170715332s to process project_gutenberg/44671.txt\n",
      "Took 0.5450000762939453s to process project_gutenberg/39998.txt\n",
      "Took 7.666419744491577s to process project_gutenberg/37310.txt\n",
      "Took 11.879842042922974s to process project_gutenberg/3731.txt\n",
      "Took 5.001646041870117s to process project_gutenberg/44665.txt\n",
      "Took 8.265344142913818s to process project_gutenberg/42147.txt\n",
      "Took 0.7574679851531982s to process project_gutenberg/44663.txt\n",
      "Took 0.8031306266784668s to process project_gutenberg/44662.txt\n",
      "Took 11.492477893829346s to process project_gutenberg/39995.txt\n",
      "Took 0.9442980289459229s to process project_gutenberg/44661.txt\n",
      "Took 9.692483186721802s to process project_gutenberg/37304.txt\n",
      "Took 4.657789468765259s to process project_gutenberg/42144.txt\n",
      "Took 8.86614727973938s to process project_gutenberg/44659.txt\n",
      "Took 5.668030261993408s to process project_gutenberg/37303.txt\n",
      "Took 0.40109801292419434s to process project_gutenberg/44658.txt\n",
      "Took 1.1223187446594238s to process project_gutenberg/42140.txt\n",
      "Took 6.582548379898071s to process project_gutenberg/3999-0.txt\n",
      "Took 2.8314201831817627s to process project_gutenberg/37300.txt\n",
      "Took 18.718834400177002s to process project_gutenberg/39989-0.txt\n",
      "Took 6.808192014694214s to process project_gutenberg/42137.txt\n",
      "Took 1.2715895175933838s to process project_gutenberg/37299.txt\n",
      "Took 12.011686563491821s to process project_gutenberg/39987.txt\n",
      "Took 2.181727647781372s to process project_gutenberg/44652.txt\n",
      "Took 0.4308936595916748s to process project_gutenberg/42135.txt\n",
      "Took 8.370025634765625s to process project_gutenberg/42132.txt\n",
      "Took 16.788207530975342s to process project_gutenberg/39984.txt\n",
      "Took 2.1152150630950928s to process project_gutenberg/44650.txt\n",
      "Took 14.143800258636475s to process project_gutenberg/37293.txt\n",
      "Took 9.63731336593628s to process project_gutenberg/42130.txt\n",
      "Took 10.43507170677185s to process project_gutenberg/44649.txt\n",
      "Took 11.734226703643799s to process project_gutenberg/39981.txt\n",
      "Took 1.7994794845581055s to process project_gutenberg/44648.txt\n",
      "Took 6.206679582595825s to process project_gutenberg/37291.txt\n",
      "Took 4.2241315841674805s to process project_gutenberg/4213.txt\n",
      "Took 9.972948789596558s to process project_gutenberg/39980.txt\n",
      "Took 5.698704242706299s to process project_gutenberg/37290.txt\n",
      "Took 8.951606035232544s to process project_gutenberg/44645.txt\n",
      "Took 11.956806421279907s to process project_gutenberg/42128.txt\n",
      "Took 7.453325033187866s to process project_gutenberg/44644.txt\n",
      "Took 3.335761547088623s to process project_gutenberg/37288.txt\n",
      "Took 1.915588140487671s to process project_gutenberg/44641.txt\n",
      "Took 13.772106885910034s to process project_gutenberg/39978.txt\n",
      "Took 1.3149042129516602s to process project_gutenberg/37287.txt\n",
      "Took 3.7659127712249756s to process project_gutenberg/42127.txt\n",
      "Took 13.601716995239258s to process project_gutenberg/37286.txt\n",
      "Took 15.66718864440918s to process project_gutenberg/44640.txt\n",
      "Took 22.342492818832397s to process project_gutenberg/39977.txt\n",
      "Took 24.890126705169678s to process project_gutenberg/42125.txt\n",
      "Took 13.492289304733276s to process project_gutenberg/37286-0.txt\n",
      "Took 29.086493015289307s to process project_gutenberg/39975.txt\n",
      "Took 42.37203574180603s to process project_gutenberg/37285.txt\n",
      "Took 6.8971521854400635s to process project_gutenberg/39972.txt\n",
      "Took 23.75849437713623s to process project_gutenberg/44633.txt\n",
      "Took 16.3962082862854s to process project_gutenberg/39971.txt\n"
     ]
    },
    {
     "name": "stdout",
     "output_type": "stream",
     "text": [
      "Took 1.7125282287597656s to process project_gutenberg/42118.txt\n",
      "Took 13.865393877029419s to process project_gutenberg/42117.txt\n",
      "Took 14.160008668899536s to process project_gutenberg/44632.txt\n",
      "Took 11.019001960754395s to process project_gutenberg/3728.txt\n",
      "Took 4.695101499557495s to process project_gutenberg/44631.txt\n",
      "Took 16.27394413948059s to process project_gutenberg/42115.txt\n",
      "Took 1.532393217086792s to process project_gutenberg/37278.txt\n",
      "Took 20.46473741531372s to process project_gutenberg/39969.txt\n",
      "Took 1.6091506481170654s to process project_gutenberg/42114.txt\n",
      "Took 4.248319149017334s to process project_gutenberg/39968.txt\n",
      "Took 2.6902108192443848s to process project_gutenberg/37276.txt\n",
      "Took 13.591778755187988s to process project_gutenberg/44628.txt\n",
      "Took 16.48083209991455s to process project_gutenberg/42112.txt\n",
      "Took 19.55794858932495s to process project_gutenberg/37274.txt\n",
      "Took 5.694271564483643s to process project_gutenberg/42111.txt\n",
      "Took 8.260510921478271s to process project_gutenberg/44625.txt\n",
      "Took 6.838137626647949s to process project_gutenberg/37271.txt\n",
      "Took 29.362894296646118s to process project_gutenberg/39962.txt\n",
      "Took 24.28727889060974s to process project_gutenberg/44624.txt\n"
     ]
    }
   ],
   "source": [
    "for file in filelist[1:]:\n",
    "    try:\n",
    "        get_style_metrics(file)\n",
    "    except (ZeroDivisionError, ValueError) as e: \n",
    "        continue"
   ]
  },
  {
   "cell_type": "code",
   "execution_count": 27,
   "metadata": {
    "scrolled": true
   },
   "outputs": [],
   "source": [
    "## parallelizing get_style_metrics function\n",
    "n_cpu = mp.cpu_count()\n",
    "with mp.Pool(processes = n_cpu) as p:\n",
    "    p.map(get_style_metrics, filelist)"
   ]
  },
  {
   "cell_type": "code",
   "execution_count": 4,
   "metadata": {},
   "outputs": [
    {
     "name": "stdout",
     "output_type": "stream",
     "text": [
      "(23294, 19)\n"
     ]
    }
   ],
   "source": [
    "datapoints = list(collection.find({}, {'_id': 0, 'text': 0}))\n",
    "df = pd.DataFrame(json_normalize(datapoints))\n",
    "df = df.rename(columns = {'metrics.sttr': 'sttr', 'metrics.hapax_legomenon': 'hapax_legomenon', \n",
    "                          'metrics.yules_k': 'yules_k', 'metrics.function_words': 'function_words', \n",
    "                          'metrics.avg_sentence_length_word': 'avg_sentence_length_word',\n",
    "                          'metrics.avg_sentence_length_chars': 'avg_sentence_length_chars', \n",
    "                          'metrics.avg_syllables_per_word': 'avg_syllables_per_word', \n",
    "                          'metrics.punctuation_sentence': 'punctuation_sentence', \n",
    "                          'metrics.shannon_entropy': 'shannon_entropy',\n",
    "                          'metrics.simpsons_d': 'simpsons_d', 'metrics.average_nps': 'average_nps', \n",
    "                          'metrics.noun_to_verb': 'noun_to_verb', 'metrics.noun_to_adj': 'noun_to_adj', \n",
    "                          'metrics.verb_to_adv': 'verb_to_adv', \n",
    "                          'metrics.avg_dependency_distance': 'avg_dependency_distance'})\n",
    "df.head()\n",
    "print(df.shape)"
   ]
  },
  {
   "cell_type": "code",
   "execution_count": 5,
   "metadata": {},
   "outputs": [
    {
     "data": {
      "text/html": [
       "<div>\n",
       "<style scoped>\n",
       "    .dataframe tbody tr th:only-of-type {\n",
       "        vertical-align: middle;\n",
       "    }\n",
       "\n",
       "    .dataframe tbody tr th {\n",
       "        vertical-align: top;\n",
       "    }\n",
       "\n",
       "    .dataframe thead th {\n",
       "        text-align: right;\n",
       "    }\n",
       "</style>\n",
       "<table border=\"1\" class=\"dataframe\">\n",
       "  <thead>\n",
       "    <tr style=\"text-align: right;\">\n",
       "      <th></th>\n",
       "      <th>file</th>\n",
       "      <th>author</th>\n",
       "      <th>title</th>\n",
       "      <th>year</th>\n",
       "      <th>sttr</th>\n",
       "      <th>hapax_legomenon</th>\n",
       "      <th>yules_k</th>\n",
       "      <th>function_words</th>\n",
       "      <th>avg_sentence_length_word</th>\n",
       "      <th>avg_sentence_length_chars</th>\n",
       "      <th>avg_syllables_per_word</th>\n",
       "      <th>punctuation_sentence</th>\n",
       "      <th>shannon_entropy</th>\n",
       "      <th>simpsons_d</th>\n",
       "      <th>average_nps</th>\n",
       "      <th>noun_to_verb</th>\n",
       "      <th>noun_to_adj</th>\n",
       "      <th>verb_to_adv</th>\n",
       "      <th>avg_dependency_distance</th>\n",
       "    </tr>\n",
       "  </thead>\n",
       "  <tbody>\n",
       "    <tr>\n",
       "      <th>0</th>\n",
       "      <td>project_gutenberg/9999.txt</td>\n",
       "      <td>Sarah H. Bradford</td>\n",
       "      <td>Harriet, The Moses of Her People</td>\n",
       "      <td>1822</td>\n",
       "      <td>0.624214</td>\n",
       "      <td>0.452214</td>\n",
       "      <td>528.796852</td>\n",
       "      <td>0.398840</td>\n",
       "      <td>20.889773</td>\n",
       "      <td>111.791794</td>\n",
       "      <td>1.735272</td>\n",
       "      <td>4.017759</td>\n",
       "      <td>10.845536</td>\n",
       "      <td>0.998584</td>\n",
       "      <td>232.700000</td>\n",
       "      <td>0.640382</td>\n",
       "      <td>0.792910</td>\n",
       "      <td>0.717273</td>\n",
       "      <td>2.338342</td>\n",
       "    </tr>\n",
       "    <tr>\n",
       "      <th>1</th>\n",
       "      <td>project_gutenberg/56195-0.txt</td>\n",
       "      <td>Kenneth Ward</td>\n",
       "      <td>The Boy Volunteers on the Belgian Front</td>\n",
       "      <td>1941</td>\n",
       "      <td>0.585125</td>\n",
       "      <td>0.415000</td>\n",
       "      <td>378.878385</td>\n",
       "      <td>0.397120</td>\n",
       "      <td>14.213115</td>\n",
       "      <td>77.207650</td>\n",
       "      <td>1.752356</td>\n",
       "      <td>2.763206</td>\n",
       "      <td>10.506952</td>\n",
       "      <td>0.997945</td>\n",
       "      <td>232.130435</td>\n",
       "      <td>0.603311</td>\n",
       "      <td>0.811363</td>\n",
       "      <td>0.718462</td>\n",
       "      <td>2.134627</td>\n",
       "    </tr>\n",
       "    <tr>\n",
       "      <th>2</th>\n",
       "      <td>project_gutenberg/51187.txt</td>\n",
       "      <td>John Wilson</td>\n",
       "      <td>A Visit to the Mammoth Cave of Kentucky</td>\n",
       "      <td>1972</td>\n",
       "      <td>0.620000</td>\n",
       "      <td>0.444000</td>\n",
       "      <td>1298.919399</td>\n",
       "      <td>0.428477</td>\n",
       "      <td>27.300300</td>\n",
       "      <td>146.405405</td>\n",
       "      <td>1.720949</td>\n",
       "      <td>4.384384</td>\n",
       "      <td>10.003001</td>\n",
       "      <td>0.998360</td>\n",
       "      <td>222.800000</td>\n",
       "      <td>0.656081</td>\n",
       "      <td>0.777569</td>\n",
       "      <td>0.638938</td>\n",
       "      <td>2.403897</td>\n",
       "    </tr>\n",
       "    <tr>\n",
       "      <th>3</th>\n",
       "      <td>project_gutenberg/51185.txt</td>\n",
       "      <td>Daniel F. Galouye</td>\n",
       "      <td>All Jackson's Children</td>\n",
       "      <td>1970</td>\n",
       "      <td>0.627000</td>\n",
       "      <td>0.486000</td>\n",
       "      <td>1703.701946</td>\n",
       "      <td>0.324357</td>\n",
       "      <td>8.565289</td>\n",
       "      <td>49.239669</td>\n",
       "      <td>1.794130</td>\n",
       "      <td>2.674380</td>\n",
       "      <td>9.511655</td>\n",
       "      <td>0.996898</td>\n",
       "      <td>221.166667</td>\n",
       "      <td>0.586852</td>\n",
       "      <td>0.823569</td>\n",
       "      <td>0.692679</td>\n",
       "      <td>2.098842</td>\n",
       "    </tr>\n",
       "    <tr>\n",
       "      <th>4</th>\n",
       "      <td>project_gutenberg/9997.txt</td>\n",
       "      <td>Francis Parkman</td>\n",
       "      <td>France and England in North America, Part Third</td>\n",
       "      <td>2013</td>\n",
       "      <td>0.686821</td>\n",
       "      <td>0.541750</td>\n",
       "      <td>269.095482</td>\n",
       "      <td>0.372508</td>\n",
       "      <td>21.562230</td>\n",
       "      <td>122.567266</td>\n",
       "      <td>1.868661</td>\n",
       "      <td>4.204856</td>\n",
       "      <td>11.781284</td>\n",
       "      <td>0.998751</td>\n",
       "      <td>241.057143</td>\n",
       "      <td>0.716877</td>\n",
       "      <td>0.837261</td>\n",
       "      <td>0.751203</td>\n",
       "      <td>2.331626</td>\n",
       "    </tr>\n",
       "    <tr>\n",
       "      <th>5</th>\n",
       "      <td>project_gutenberg/9996.txt</td>\n",
       "      <td>Charles Francis Adams</td>\n",
       "      <td>'Tis Sixty Years Since</td>\n",
       "      <td>1814</td>\n",
       "      <td>0.689000</td>\n",
       "      <td>0.525429</td>\n",
       "      <td>1123.982792</td>\n",
       "      <td>0.412379</td>\n",
       "      <td>22.716826</td>\n",
       "      <td>135.894665</td>\n",
       "      <td>2.360974</td>\n",
       "      <td>4.124487</td>\n",
       "      <td>10.880695</td>\n",
       "      <td>0.999149</td>\n",
       "      <td>214.000000</td>\n",
       "      <td>0.671823</td>\n",
       "      <td>0.718001</td>\n",
       "      <td>0.598605</td>\n",
       "      <td>2.411298</td>\n",
       "    </tr>\n",
       "    <tr>\n",
       "      <th>6</th>\n",
       "      <td>project_gutenberg/56190-0.txt</td>\n",
       "      <td>Warren Commission</td>\n",
       "      <td>Warren Commission (14 of 26): Hearings Vol. XI...</td>\n",
       "      <td>1963</td>\n",
       "      <td>0.332608</td>\n",
       "      <td>0.195665</td>\n",
       "      <td>212.461619</td>\n",
       "      <td>0.382709</td>\n",
       "      <td>7.211034</td>\n",
       "      <td>37.233989</td>\n",
       "      <td>1.824845</td>\n",
       "      <td>1.806544</td>\n",
       "      <td>9.316746</td>\n",
       "      <td>0.981190</td>\n",
       "      <td>257.088583</td>\n",
       "      <td>0.685171</td>\n",
       "      <td>0.900294</td>\n",
       "      <td>0.686401</td>\n",
       "      <td>2.003238</td>\n",
       "    </tr>\n",
       "    <tr>\n",
       "      <th>7</th>\n",
       "      <td>project_gutenberg/9995.txt</td>\n",
       "      <td>Marian M. George</td>\n",
       "      <td>A Little Journey to Puerto Rico</td>\n",
       "      <td>2007</td>\n",
       "      <td>0.644000</td>\n",
       "      <td>0.471333</td>\n",
       "      <td>837.998946</td>\n",
       "      <td>0.409068</td>\n",
       "      <td>14.524590</td>\n",
       "      <td>80.180328</td>\n",
       "      <td>1.754010</td>\n",
       "      <td>2.718460</td>\n",
       "      <td>10.896416</td>\n",
       "      <td>0.998974</td>\n",
       "      <td>246.869565</td>\n",
       "      <td>0.723873</td>\n",
       "      <td>0.794841</td>\n",
       "      <td>0.726814</td>\n",
       "      <td>2.150615</td>\n",
       "    </tr>\n",
       "    <tr>\n",
       "      <th>8</th>\n",
       "      <td>project_gutenberg/51183-0.txt</td>\n",
       "      <td>George Grote</td>\n",
       "      <td>History of Greece, Volume 10 (of 12)</td>\n",
       "      <td>2018</td>\n",
       "      <td>0.678575</td>\n",
       "      <td>0.524642</td>\n",
       "      <td>180.798344</td>\n",
       "      <td>0.350970</td>\n",
       "      <td>15.716207</td>\n",
       "      <td>95.380218</td>\n",
       "      <td>2.143120</td>\n",
       "      <td>2.827180</td>\n",
       "      <td>12.209676</td>\n",
       "      <td>0.999341</td>\n",
       "      <td>245.503968</td>\n",
       "      <td>0.736571</td>\n",
       "      <td>0.807329</td>\n",
       "      <td>0.674299</td>\n",
       "      <td>2.284798</td>\n",
       "    </tr>\n",
       "    <tr>\n",
       "      <th>9</th>\n",
       "      <td>project_gutenberg/5619-0.txt</td>\n",
       "      <td>William Petty</td>\n",
       "      <td>Essays on Mankind and Political Arithmetic</td>\n",
       "      <td>1899</td>\n",
       "      <td>0.533643</td>\n",
       "      <td>0.367429</td>\n",
       "      <td>506.564690</td>\n",
       "      <td>0.407927</td>\n",
       "      <td>24.473765</td>\n",
       "      <td>136.352623</td>\n",
       "      <td>1.819653</td>\n",
       "      <td>4.456790</td>\n",
       "      <td>10.645643</td>\n",
       "      <td>0.998158</td>\n",
       "      <td>205.694444</td>\n",
       "      <td>0.707252</td>\n",
       "      <td>0.778920</td>\n",
       "      <td>0.696943</td>\n",
       "      <td>2.465841</td>\n",
       "    </tr>\n",
       "  </tbody>\n",
       "</table>\n",
       "</div>"
      ],
      "text/plain": [
       "                            file                 author  \\\n",
       "0     project_gutenberg/9999.txt      Sarah H. Bradford   \n",
       "1  project_gutenberg/56195-0.txt           Kenneth Ward   \n",
       "2    project_gutenberg/51187.txt            John Wilson   \n",
       "3    project_gutenberg/51185.txt      Daniel F. Galouye   \n",
       "4     project_gutenberg/9997.txt        Francis Parkman   \n",
       "5     project_gutenberg/9996.txt  Charles Francis Adams   \n",
       "6  project_gutenberg/56190-0.txt      Warren Commission   \n",
       "7     project_gutenberg/9995.txt       Marian M. George   \n",
       "8  project_gutenberg/51183-0.txt           George Grote   \n",
       "9   project_gutenberg/5619-0.txt          William Petty   \n",
       "\n",
       "                                               title  year      sttr  \\\n",
       "0                   Harriet, The Moses of Her People  1822  0.624214   \n",
       "1            The Boy Volunteers on the Belgian Front  1941  0.585125   \n",
       "2            A Visit to the Mammoth Cave of Kentucky  1972  0.620000   \n",
       "3                             All Jackson's Children  1970  0.627000   \n",
       "4    France and England in North America, Part Third  2013  0.686821   \n",
       "5                             'Tis Sixty Years Since  1814  0.689000   \n",
       "6  Warren Commission (14 of 26): Hearings Vol. XI...  1963  0.332608   \n",
       "7                    A Little Journey to Puerto Rico  2007  0.644000   \n",
       "8               History of Greece, Volume 10 (of 12)  2018  0.678575   \n",
       "9         Essays on Mankind and Political Arithmetic  1899  0.533643   \n",
       "\n",
       "   hapax_legomenon      yules_k  function_words  avg_sentence_length_word  \\\n",
       "0         0.452214   528.796852        0.398840                 20.889773   \n",
       "1         0.415000   378.878385        0.397120                 14.213115   \n",
       "2         0.444000  1298.919399        0.428477                 27.300300   \n",
       "3         0.486000  1703.701946        0.324357                  8.565289   \n",
       "4         0.541750   269.095482        0.372508                 21.562230   \n",
       "5         0.525429  1123.982792        0.412379                 22.716826   \n",
       "6         0.195665   212.461619        0.382709                  7.211034   \n",
       "7         0.471333   837.998946        0.409068                 14.524590   \n",
       "8         0.524642   180.798344        0.350970                 15.716207   \n",
       "9         0.367429   506.564690        0.407927                 24.473765   \n",
       "\n",
       "   avg_sentence_length_chars  avg_syllables_per_word  punctuation_sentence  \\\n",
       "0                 111.791794                1.735272              4.017759   \n",
       "1                  77.207650                1.752356              2.763206   \n",
       "2                 146.405405                1.720949              4.384384   \n",
       "3                  49.239669                1.794130              2.674380   \n",
       "4                 122.567266                1.868661              4.204856   \n",
       "5                 135.894665                2.360974              4.124487   \n",
       "6                  37.233989                1.824845              1.806544   \n",
       "7                  80.180328                1.754010              2.718460   \n",
       "8                  95.380218                2.143120              2.827180   \n",
       "9                 136.352623                1.819653              4.456790   \n",
       "\n",
       "   shannon_entropy  simpsons_d  average_nps  noun_to_verb  noun_to_adj  \\\n",
       "0        10.845536    0.998584   232.700000      0.640382     0.792910   \n",
       "1        10.506952    0.997945   232.130435      0.603311     0.811363   \n",
       "2        10.003001    0.998360   222.800000      0.656081     0.777569   \n",
       "3         9.511655    0.996898   221.166667      0.586852     0.823569   \n",
       "4        11.781284    0.998751   241.057143      0.716877     0.837261   \n",
       "5        10.880695    0.999149   214.000000      0.671823     0.718001   \n",
       "6         9.316746    0.981190   257.088583      0.685171     0.900294   \n",
       "7        10.896416    0.998974   246.869565      0.723873     0.794841   \n",
       "8        12.209676    0.999341   245.503968      0.736571     0.807329   \n",
       "9        10.645643    0.998158   205.694444      0.707252     0.778920   \n",
       "\n",
       "   verb_to_adv  avg_dependency_distance  \n",
       "0     0.717273                 2.338342  \n",
       "1     0.718462                 2.134627  \n",
       "2     0.638938                 2.403897  \n",
       "3     0.692679                 2.098842  \n",
       "4     0.751203                 2.331626  \n",
       "5     0.598605                 2.411298  \n",
       "6     0.686401                 2.003238  \n",
       "7     0.726814                 2.150615  \n",
       "8     0.674299                 2.284798  \n",
       "9     0.696943                 2.465841  "
      ]
     },
     "execution_count": 5,
     "metadata": {},
     "output_type": "execute_result"
    }
   ],
   "source": [
    "df.head(10)"
   ]
  },
  {
   "cell_type": "code",
   "execution_count": 6,
   "metadata": {},
   "outputs": [
    {
     "data": {
      "text/plain": [
       "file                            0\n",
       "author                          0\n",
       "title                           0\n",
       "year                            0\n",
       "sttr                         5253\n",
       "hapax_legomenon              5253\n",
       "yules_k                      4898\n",
       "function_words               4898\n",
       "avg_sentence_length_word     4898\n",
       "avg_sentence_length_chars    4898\n",
       "avg_syllables_per_word       4898\n",
       "punctuation_sentence         4898\n",
       "shannon_entropy              4898\n",
       "simpsons_d                   4898\n",
       "average_nps                  5024\n",
       "noun_to_verb                 4898\n",
       "noun_to_adj                  4898\n",
       "verb_to_adv                  4898\n",
       "avg_dependency_distance      4898\n",
       "dtype: int64"
      ]
     },
     "execution_count": 6,
     "metadata": {},
     "output_type": "execute_result"
    }
   ],
   "source": [
    "df.isnull().sum()"
   ]
  },
  {
   "cell_type": "code",
   "execution_count": null,
   "metadata": {},
   "outputs": [],
   "source": []
  },
  {
   "cell_type": "code",
   "execution_count": 37,
   "metadata": {},
   "outputs": [],
   "source": [
    "df.to_csv('metrics.csv', index=False)"
   ]
  }
 ],
 "metadata": {
  "kernelspec": {
   "display_name": "Python 3",
   "language": "python",
   "name": "python3"
  },
  "language_info": {
   "codemirror_mode": {
    "name": "ipython",
    "version": 3
   },
   "file_extension": ".py",
   "mimetype": "text/x-python",
   "name": "python",
   "nbconvert_exporter": "python",
   "pygments_lexer": "ipython3",
   "version": "3.7.5"
  }
 },
 "nbformat": 4,
 "nbformat_minor": 2
}
