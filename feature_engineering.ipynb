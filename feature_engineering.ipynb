{
 "cells": [
  {
   "cell_type": "code",
   "execution_count": 1,
   "metadata": {},
   "outputs": [],
   "source": [
    "from stylometry import *\n",
    "import pymongo\n",
    "import time\n",
    "import multiprocessing as mp\n",
    "import pandas as pd\n",
    "from pandas.io.json import json_normalize\n",
    "import warnings\n",
    "warnings.filterwarnings('ignore')\n",
    "\n",
    "import spacy\n",
    "#import en_core_web_lg\n",
    "import en_core_web_md"
   ]
  },
  {
   "cell_type": "code",
   "execution_count": 2,
   "metadata": {},
   "outputs": [],
   "source": [
    "## connect the database to my virtual machine\n",
    "client = pymongo.MongoClient('mongodb://localhost/')\n",
    "db = client['gutenberg_db']\n",
    "collection = db['gutenberg_collection']"
   ]
  },
  {
   "cell_type": "code",
   "execution_count": 3,
   "metadata": {},
   "outputs": [
    {
     "data": {
      "text/plain": [
       "Collection(Database(MongoClient(host=['localhost:27017'], document_class=dict, tz_aware=False, connect=True), 'gutenberg_db'), 'gutenberg_collection')"
      ]
     },
     "execution_count": 3,
     "metadata": {},
     "output_type": "execute_result"
    }
   ],
   "source": [
    "collection"
   ]
  },
  {
   "cell_type": "code",
   "execution_count": 5,
   "metadata": {},
   "outputs": [],
   "source": [
    "text = collection.find({'file': 'project_gutenberg/51185.txt'}, {'text': 1})[0]['text']"
   ]
  },
  {
   "cell_type": "code",
   "execution_count": 6,
   "metadata": {},
   "outputs": [
    {
     "name": "stdout",
     "output_type": "stream",
     "text": [
      "Took 1.6460483074188232s to process\n"
     ]
    }
   ],
   "source": [
    "s = time.time()\n",
    "doc = nlp(text)\n",
    "tokens = [token.orth_.lower() for token in doc if not token.is_punct and token if not token.is_stop]\n",
    "sentences = [sent.string.strip() for sent in doc.sents]\n",
    "print(f'Took {time.time() - s}s to process')"
   ]
  },
  {
   "cell_type": "code",
   "execution_count": 7,
   "metadata": {},
   "outputs": [
    {
     "data": {
      "text/plain": [
       "0.627"
      ]
     },
     "execution_count": 7,
     "metadata": {},
     "output_type": "execute_result"
    }
   ],
   "source": [
    "sttr(tokens)"
   ]
  },
  {
   "cell_type": "code",
   "execution_count": 8,
   "metadata": {},
   "outputs": [
    {
     "data": {
      "text/plain": [
       "0.486"
      ]
     },
     "execution_count": 8,
     "metadata": {},
     "output_type": "execute_result"
    }
   ],
   "source": [
    "hapax_legomenon(tokens)"
   ]
  },
  {
   "cell_type": "code",
   "execution_count": 9,
   "metadata": {},
   "outputs": [
    {
     "data": {
      "text/plain": [
       "1703.7019456860444"
      ]
     },
     "execution_count": 9,
     "metadata": {},
     "output_type": "execute_result"
    }
   ],
   "source": [
    "yules_k(tokens)"
   ]
  },
  {
   "cell_type": "code",
   "execution_count": 10,
   "metadata": {},
   "outputs": [
    {
     "data": {
      "text/plain": [
       "0.32435685271551074"
      ]
     },
     "execution_count": 10,
     "metadata": {},
     "output_type": "execute_result"
    }
   ],
   "source": [
    "function_words(doc)"
   ]
  },
  {
   "cell_type": "code",
   "execution_count": 11,
   "metadata": {},
   "outputs": [
    {
     "data": {
      "text/plain": [
       "8.565289256198348"
      ]
     },
     "execution_count": 11,
     "metadata": {},
     "output_type": "execute_result"
    }
   ],
   "source": [
    "avg_sentence_length_word(sentences)"
   ]
  },
  {
   "cell_type": "code",
   "execution_count": 12,
   "metadata": {},
   "outputs": [
    {
     "data": {
      "text/plain": [
       "49.239669421487605"
      ]
     },
     "execution_count": 12,
     "metadata": {},
     "output_type": "execute_result"
    }
   ],
   "source": [
    "avg_sentence_length_chars(sentences)"
   ]
  },
  {
   "cell_type": "code",
   "execution_count": 13,
   "metadata": {},
   "outputs": [
    {
     "data": {
      "text/plain": [
       "1.7941299790356393"
      ]
     },
     "execution_count": 13,
     "metadata": {},
     "output_type": "execute_result"
    }
   ],
   "source": [
    "avg_syllables_per_word(tokens)"
   ]
  },
  {
   "cell_type": "code",
   "execution_count": 14,
   "metadata": {},
   "outputs": [
    {
     "data": {
      "text/plain": [
       "2.6743801652892563"
      ]
     },
     "execution_count": 14,
     "metadata": {},
     "output_type": "execute_result"
    }
   ],
   "source": [
    "punctuation_sentence(sentences)"
   ]
  },
  {
   "cell_type": "code",
   "execution_count": 15,
   "metadata": {},
   "outputs": [
    {
     "data": {
      "text/plain": [
       "9.51165465635602"
      ]
     },
     "execution_count": 15,
     "metadata": {},
     "output_type": "execute_result"
    }
   ],
   "source": [
    "shannon_entropy(tokens)"
   ]
  },
  {
   "cell_type": "code",
   "execution_count": 16,
   "metadata": {},
   "outputs": [
    {
     "data": {
      "text/plain": [
       "0.9968982595359701"
      ]
     },
     "execution_count": 16,
     "metadata": {},
     "output_type": "execute_result"
    }
   ],
   "source": [
    "simpsons_d(tokens)"
   ]
  },
  {
   "cell_type": "code",
   "execution_count": 17,
   "metadata": {},
   "outputs": [
    {
     "data": {
      "text/plain": [
       "221.16666666666666"
      ]
     },
     "execution_count": 17,
     "metadata": {},
     "output_type": "execute_result"
    }
   ],
   "source": [
    "average_nps(doc)"
   ]
  },
  {
   "cell_type": "code",
   "execution_count": 18,
   "metadata": {},
   "outputs": [
    {
     "data": {
      "text/plain": [
       "0.586852207293666"
      ]
     },
     "execution_count": 18,
     "metadata": {},
     "output_type": "execute_result"
    }
   ],
   "source": [
    "noun_to_verb(doc)"
   ]
  },
  {
   "cell_type": "code",
   "execution_count": 19,
   "metadata": {},
   "outputs": [
    {
     "data": {
      "text/plain": [
       "0.8235690235690236"
      ]
     },
     "execution_count": 19,
     "metadata": {},
     "output_type": "execute_result"
    }
   ],
   "source": [
    "noun_to_adj(doc)"
   ]
  },
  {
   "cell_type": "code",
   "execution_count": 20,
   "metadata": {},
   "outputs": [
    {
     "data": {
      "text/plain": [
       "0.6926790024135157"
      ]
     },
     "execution_count": 20,
     "metadata": {},
     "output_type": "execute_result"
    }
   ],
   "source": [
    "verb_to_adv(doc)"
   ]
  },
  {
   "cell_type": "code",
   "execution_count": 21,
   "metadata": {},
   "outputs": [
    {
     "data": {
      "text/plain": [
       "2.0988422371735185"
      ]
     },
     "execution_count": 21,
     "metadata": {},
     "output_type": "execute_result"
    }
   ],
   "source": [
    "avg_dependency_distance(doc)"
   ]
  },
  {
   "cell_type": "code",
   "execution_count": 22,
   "metadata": {},
   "outputs": [
    {
     "name": "stdout",
     "output_type": "stream",
     "text": [
      "Took 0.8566100597381592s to process project_gutenberg/51185.txt\n"
     ]
    }
   ],
   "source": [
    "get_style_metrics('project_gutenberg/51185.txt')"
   ]
  },
  {
   "cell_type": "markdown",
   "metadata": {},
   "source": [
    "### Mongo Upload"
   ]
  },
  {
   "cell_type": "code",
   "execution_count": 32,
   "metadata": {},
   "outputs": [
    {
     "name": "stdout",
     "output_type": "stream",
     "text": [
      "23294\n"
     ]
    }
   ],
   "source": [
    "filelist = [doc['file'] for doc in collection.find({}, {'file': 1})]\n",
    "print(len(filelist))"
   ]
  },
  {
   "cell_type": "code",
   "execution_count": 7,
   "metadata": {},
   "outputs": [
    {
     "name": "stdout",
     "output_type": "stream",
     "text": [
      "7515\n"
     ]
    }
   ],
   "source": [
    "filelist = list(df[df['hapax_legomenon'].isnull()].file.values)\n",
    "print(len(filelist))"
   ]
  },
  {
   "cell_type": "code",
   "execution_count": 9,
   "metadata": {
    "scrolled": true
   },
   "outputs": [
    {
     "name": "stdout",
     "output_type": "stream",
     "text": [
      "Took 0.4223318099975586s to process project_gutenberg/51064-0.txt\n",
      "Took 0.18154478073120117s to process project_gutenberg/60980-0.txt\n",
      "Took 0.24592232704162598s to process project_gutenberg/55976-0.txt\n",
      "Took 0.4061558246612549s to process project_gutenberg/50959.txt\n",
      "Took 0.12275481224060059s to process project_gutenberg/50876.txt\n",
      "Took 0.06720352172851562s to process project_gutenberg/55814.txt\n",
      "Took 0.15367770195007324s to process project_gutenberg/6074.txt\n",
      "Took 0.2099757194519043s to process project_gutenberg/60667.txt\n",
      "Took 0.3246142864227295s to process project_gutenberg/60573-0.txt\n",
      "Took 0.04727911949157715s to process project_gutenberg/50614-0.txt\n",
      "Took 0.3584294319152832s to process project_gutenberg/60521.txt\n",
      "Took 0.36199116706848145s to process project_gutenberg/60396-0.txt\n",
      "Took 0.33307361602783203s to process project_gutenberg/9242.txt\n",
      "Took 0.315854549407959s to process project_gutenberg/9241.txt\n",
      "Took 12.825137853622437s to process project_gutenberg/50390-0.txt\n",
      "Took 0.43662428855895996s to process project_gutenberg/9219.txt\n",
      "Took 13.92803406715393s to process project_gutenberg/55358-0.txt\n",
      "Took 0.38055968284606934s to process project_gutenberg/9217.txt\n",
      "Took 1.5950300693511963s to process project_gutenberg/55357-0.txt\n",
      "Took 3.143571138381958s to process project_gutenberg/55354-0.txt\n",
      "Took 2.895711898803711s to process project_gutenberg/60342-0.txt\n",
      "Took 11.624622583389282s to process project_gutenberg/50388-0.txt\n",
      "Took 0.6584067344665527s to process project_gutenberg/9215.txt\n",
      "Took 0.6031763553619385s to process project_gutenberg/55350-0.txt\n",
      "Took 10.550065040588379s to process project_gutenberg/50387-0.txt\n",
      "Took 2.351836681365967s to process project_gutenberg/60341-0.txt\n",
      "Took 0.5762999057769775s to process project_gutenberg/9214.txt\n",
      "Took 0.41527557373046875s to process project_gutenberg/6034.txt\n",
      "Took 14.57222604751587s to process project_gutenberg/50386-0.txt\n",
      "Took 0.5335643291473389s to process project_gutenberg/9214-0.txt\n",
      "Took 11.736591815948486s to process project_gutenberg/55347-0.txt\n",
      "Took 0.9356698989868164s to process project_gutenberg/9213.txt\n",
      "Took 3.213125228881836s to process project_gutenberg/50385-0.txt\n",
      "Took 11.713304281234741s to process project_gutenberg/55346-0.txt\n",
      "Took 0.8614611625671387s to process project_gutenberg/9213-0.txt\n",
      "Took 6.4093616008758545s to process project_gutenberg/60338-0.txt\n",
      "Took 0.3509838581085205s to process project_gutenberg/9212.txt\n",
      "Took 4.855583429336548s to process project_gutenberg/60337-0.txt\n",
      "Took 0.4719431400299072s to process project_gutenberg/9211.txt\n",
      "Took 17.42867088317871s to process project_gutenberg/55343-0.txt\n",
      "Took 7.252373218536377s to process project_gutenberg/55342-0.txt\n",
      "Took 14.094397783279419s to process project_gutenberg/60334-0.txt\n",
      "Took 0.6470203399658203s to process project_gutenberg/9210.txt\n",
      "Took 2.4602901935577393s to process project_gutenberg/921.txt\n",
      "Took 13.446512222290039s to process project_gutenberg/60333-0.txt\n",
      "Took 5.0048651695251465s to process project_gutenberg/55341-0.txt\n",
      "Took 0.24978280067443848s to process project_gutenberg/9209.txt\n",
      "Took 14.906410217285156s to process project_gutenberg/50379-0.txt\n",
      "Took 0.3380091190338135s to process project_gutenberg/9208.txt\n",
      "Took 0.2665274143218994s to process project_gutenberg/9207.txt\n",
      "Took 13.816051244735718s to process project_gutenberg/50377-0.txt\n",
      "Took 0.3695199489593506s to process project_gutenberg/9206.txt\n",
      "Took 18.599711656570435s to process project_gutenberg/55339-0.txt\n",
      "Took 0.35463595390319824s to process project_gutenberg/9205.txt\n",
      "Took 9.606249332427979s to process project_gutenberg/60331-0.txt\n",
      "Took 11.505969524383545s to process project_gutenberg/50374.txt\n",
      "Took 0.7102391719818115s to process project_gutenberg/9204.txt\n",
      "Took 16.866501569747925s to process project_gutenberg/55338-0.txt\n",
      "Took 2.74960994720459s to process project_gutenberg/60330-0.txt\n",
      "Took 8.382701873779297s to process project_gutenberg/50371-0.txt\n",
      "Took 0.35742712020874023s to process project_gutenberg/9203.txt\n",
      "Took 7.301314115524292s to process project_gutenberg/55337-0.txt\n",
      "Took 0.4272735118865967s to process project_gutenberg/9202.txt\n",
      "Took 15.075077295303345s to process project_gutenberg/50370-0.txt\n",
      "Took 0.358198881149292s to process project_gutenberg/9201.txt\n",
      "Took 11.941186428070068s to process project_gutenberg/55336-0.txt\n",
      "Took 26.723337650299072s to process project_gutenberg/60329.txt\n",
      "Took 10.012969493865967s to process project_gutenberg/92.txt\n",
      "Took 6.020941495895386s to process project_gutenberg/9198.txt\n",
      "Took 9.876339197158813s to process project_gutenberg/60325-0.txt\n",
      "Took 4.05601954460144s to process project_gutenberg/55333-0.txt\n",
      "Took 19.30586814880371s to process project_gutenberg/50364-0.txt\n",
      "Took 18.13165020942688s to process project_gutenberg/60324-0.txt\n",
      "Took 17.491923332214355s to process project_gutenberg/55332-0.txt\n",
      "Took 11.652862787246704s to process project_gutenberg/60322-0.txt\n",
      "Took 7.778109550476074s to process project_gutenberg/5036.txt\n",
      "Took 14.102432250976562s to process project_gutenberg/9194.txt\n",
      "Took 44.45664930343628s to process project_gutenberg/55330-0.txt\n",
      "Took 5.417213439941406s to process project_gutenberg/50358-0.txt\n",
      "Took 8.16588306427002s to process project_gutenberg/50357.txt\n",
      "Took 10.501522779464722s to process project_gutenberg/55329-0.txt\n",
      "Took 31.984437227249146s to process project_gutenberg/9192-8.txt\n",
      "Took 14.634954929351807s to process project_gutenberg/60318-0.txt\n",
      "Took 12.21812891960144s to process project_gutenberg/9191.txt\n",
      "Took 0.27431154251098633s to process project_gutenberg/60317-0.txt\n",
      "Took 5.1088995933532715s to process project_gutenberg/50353-0.txt\n",
      "Took 7.853180170059204s to process project_gutenberg/9190.txt\n",
      "Took 7.894577264785767s to process project_gutenberg/60315.txt\n",
      "Took 18.918938636779785s to process project_gutenberg/50352-0.txt\n",
      "Took 3.1053693294525146s to process project_gutenberg/60314-0.txt\n",
      "Took 25.013925075531006s to process project_gutenberg/50350-0.txt\n",
      "Took 3.3312478065490723s to process project_gutenberg/9188.txt\n",
      "Took 1.706179141998291s to process project_gutenberg/5035.txt\n",
      "Took 24.735149383544922s to process project_gutenberg/55324-0.txt\n",
      "Took 8.986303329467773s to process project_gutenberg/60310-0.txt\n",
      "Took 10.342258930206299s to process project_gutenberg/9185.txt\n",
      "Took 8.693360567092896s to process project_gutenberg/6031.txt\n",
      "Took 2.763645648956299s to process project_gutenberg/50347-0.txt\n",
      "Took 8.584992170333862s to process project_gutenberg/50346-0.txt\n",
      "Took 2.731774091720581s to process project_gutenberg/60308-0.txt\n",
      "Took 2.2951743602752686s to process project_gutenberg/55319-0.txt\n",
      "Took 13.59554409980774s to process project_gutenberg/50345-0.txt\n",
      "Took 4.219858646392822s to process project_gutenberg/60307-0.txt\n",
      "Took 1.7595336437225342s to process project_gutenberg/55318-0.txt\n",
      "Took 0.39971327781677246s to process project_gutenberg/60305.txt\n",
      "Took 2.5635414123535156s to process project_gutenberg/50343-0.txt\n",
      "Took 9.242342948913574s to process project_gutenberg/9176.txt\n",
      "Took 27.32171392440796s to process project_gutenberg/50342-0.txt\n",
      "Took 9.47346305847168s to process project_gutenberg/60302-0.txt\n",
      "Took 5.226919889450073s to process project_gutenberg/5034.txt\n",
      "Took 5.465327739715576s to process project_gutenberg/9174.txt\n",
      "Took 4.816368818283081s to process project_gutenberg/6030.txt\n",
      "Took 0.7305619716644287s to process project_gutenberg/50338.txt\n",
      "Took 1.668874979019165s to process project_gutenberg/55306-0.txt\n",
      "Took 19.018496990203857s to process project_gutenberg/603.txt\n",
      "Took 5.581018447875977s to process project_gutenberg/9171.txt\n",
      "Took 8.834441900253296s to process project_gutenberg/50330-0.txt\n",
      "Took 9.362894773483276s to process project_gutenberg/60299-0.txt\n",
      "Took 2.6579060554504395s to process project_gutenberg/60298-0.txt\n",
      "Took 8.19487977027893s to process project_gutenberg/55300-0.txt\n",
      "Took 103.66209602355957s to process project_gutenberg/9170.txt\n",
      "Took 23.326851844787598s to process project_gutenberg/50328-0.txt\n",
      "Took 1.3802180290222168s to process project_gutenberg/60297-0.txt\n",
      "Took 5.253506660461426s to process project_gutenberg/553.txt\n",
      "Took 0.6837267875671387s to process project_gutenberg/60291.txt\n",
      "Took 0.9398422241210938s to process project_gutenberg/50321-0.txt\n",
      "Took 17.130878686904907s to process project_gutenberg/60290-0.txt\n"
     ]
    },
    {
     "name": "stdout",
     "output_type": "stream",
     "text": [
      "Took 5.418150901794434s to process project_gutenberg/50320-0.txt\n",
      "Took 15.501503229141235s to process project_gutenberg/6029.txt\n",
      "Took 40.79341959953308s to process project_gutenberg/917.txt\n",
      "Took 22.583528518676758s to process project_gutenberg/5032.txt\n",
      "Took 4.657552242279053s to process project_gutenberg/55295-0.txt\n",
      "Took 4.138104200363159s to process project_gutenberg/60288.txt\n",
      "Took 7.533808946609497s to process project_gutenberg/55294-0.txt\n",
      "Took 14.514076709747314s to process project_gutenberg/50317.txt\n",
      "Took 31.029303789138794s to process project_gutenberg/9169.txt\n",
      "Took 33.622562408447266s to process project_gutenberg/60286-0.txt\n",
      "Took 6.2513391971588135s to process project_gutenberg/9168.txt\n",
      "Took 5.6393654346466064s to process project_gutenberg/9167.txt\n",
      "Took 15.774995565414429s to process project_gutenberg/55288-0.txt\n",
      "Took 6.278334856033325s to process project_gutenberg/60280-0.txt\n",
      "Took 13.00669264793396s to process project_gutenberg/50312.txt\n",
      "Took 5.960716724395752s to process project_gutenberg/9166.txt\n",
      "Took 0.7578048706054688s to process project_gutenberg/55287-0.txt\n",
      "Took 5.332918167114258s to process project_gutenberg/9165.txt\n",
      "Took 11.572956323623657s to process project_gutenberg/55286-0.txt\n",
      "Took 7.309579372406006s to process project_gutenberg/50309.txt\n",
      "Took 10.28591513633728s to process project_gutenberg/60278.txt\n",
      "Took 5.868504762649536s to process project_gutenberg/9164.txt\n",
      "Took 1.397397518157959s to process project_gutenberg/50308-0.txt\n",
      "Took 20.500752449035645s to process project_gutenberg/60277-0.txt\n",
      "Took 22.616080284118652s to process project_gutenberg/50302.txt\n",
      "Took 8.3238685131073s to process project_gutenberg/9162.txt\n",
      "Took 2.948728084564209s to process project_gutenberg/60276-0.txt\n",
      "Took 7.252512216567993s to process project_gutenberg/5030.txt\n",
      "Took 13.207693338394165s to process project_gutenberg/55280-0.txt\n",
      "Took 20.916043281555176s to process project_gutenberg/503.txt\n",
      "Took 8.292468547821045s to process project_gutenberg/60270-0.txt\n",
      "Took 9.149281978607178s to process project_gutenberg/9156.txt\n",
      "Took 10.980328559875488s to process project_gutenberg/9155.txt\n",
      "Took 11.64895224571228s to process project_gutenberg/55277-0.txt\n",
      "Took 26.604901790618896s to process project_gutenberg/50298-0.txt\n",
      "Took 10.198739290237427s to process project_gutenberg/9154.txt\n",
      "Took 12.842841625213623s to process project_gutenberg/60269-0.txt\n",
      "Took 2.7141942977905273s to process project_gutenberg/50294-0.txt\n",
      "Took 7.319037199020386s to process project_gutenberg/60268-0.txt\n",
      "Took 6.783203840255737s to process project_gutenberg/9152.txt\n",
      "Took 16.310644149780273s to process project_gutenberg/9151.txt\n",
      "Took 6.110956192016602s to process project_gutenberg/60265-0.txt\n",
      "Took 15.579178094863892s to process project_gutenberg/5029.txt\n",
      "Took 15.047888994216919s to process project_gutenberg/55272-0.txt\n",
      "Took 0.535351037979126s to process project_gutenberg/60263-0.txt\n",
      "Took 16.053140878677368s to process project_gutenberg/9150.txt\n",
      "Took 10.366466522216797s to process project_gutenberg/55270-0.txt\n",
      "Took 9.721349239349365s to process project_gutenberg/60262.txt\n",
      "Took 5.403524398803711s to process project_gutenberg/50284-0.txt\n",
      "Took 22.51071524620056s to process project_gutenberg/914-0.txt\n",
      "Took 7.537039756774902s to process project_gutenberg/50281-0.txt\n",
      "Took 1.688906192779541s to process project_gutenberg/60260-0.txt\n",
      "Took 8.7095365524292s to process project_gutenberg/913.txt\n",
      "Took 3.591508150100708s to process project_gutenberg/6026.txt\n",
      "Took 4.358788013458252s to process project_gutenberg/912-0.txt\n",
      "Took 6.363264083862305s to process project_gutenberg/50276-0.txt\n",
      "Took 0.3066561222076416s to process project_gutenberg/60259-0.txt\n",
      "Took 44.87321066856384s to process project_gutenberg/55264-0.txt\n",
      "Took 4.896457195281982s to process project_gutenberg/9112.txt\n",
      "Took 6.580801248550415s to process project_gutenberg/50275.txt\n",
      "Took 3.5181593894958496s to process project_gutenberg/60257-0.txt\n",
      "Took 1.951880931854248s to process project_gutenberg/50274-0.txt\n",
      "Took 11.702232837677002s to process project_gutenberg/50273-0.txt\n",
      "Took 17.615357398986816s to process project_gutenberg/55260-0.txt\n",
      "Took 19.18586015701294s to process project_gutenberg/60253.txt\n",
      "Took 1.7133359909057617s to process project_gutenberg/55256-0.txt\n",
      "Took 0.20552468299865723s to process project_gutenberg/60131.txt\n",
      "Took 0.05840325355529785s to process project_gutenberg/8851.txt\n",
      "Took 0.2598838806152344s to process project_gutenberg/8849.txt\n",
      "Took 0.0878748893737793s to process project_gutenberg/8845.txt\n",
      "Took 116.89115977287292s to process project_gutenberg/55059-0.txt\n",
      "Took 53.22864651679993s to process project_gutenberg/883-0.txt\n",
      "Took 8.763019323348999s to process project_gutenberg/5003.txt\n",
      "Took 2.0408525466918945s to process project_gutenberg/8829.txt\n",
      "Took 36.74227166175842s to process project_gutenberg/60056.txt\n",
      "Took 17.235933303833008s to process project_gutenberg/50029-0.txt\n",
      "Took 3.421905040740967s to process project_gutenberg/8828.txt\n",
      "Took 21.786303758621216s to process project_gutenberg/50026-0.txt\n",
      "Took 2.408827304840088s to process project_gutenberg/5505.txt\n",
      "Took 0.6971426010131836s to process project_gutenberg/50025-0.txt\n",
      "Took 26.073171854019165s to process project_gutenberg/8826.txt\n",
      "Took 10.699435949325562s to process project_gutenberg/55049-0.txt\n",
      "Took 19.939419984817505s to process project_gutenberg/60051-0.txt\n",
      "Took 2.13881254196167s to process project_gutenberg/8824.txt\n",
      "Took 12.197674036026001s to process project_gutenberg/55047-0.txt\n",
      "Took 8.771292686462402s to process project_gutenberg/5002.txt\n",
      "Took 40.813583850860596s to process project_gutenberg/882.txt\n",
      "Took 15.071144819259644s to process project_gutenberg/55045-0.txt\n",
      "Took 1.1350839138031006s to process project_gutenberg/50012.txt\n",
      "Took 32.150307416915894s to process project_gutenberg/60048-0.txt\n",
      "Took 12.926017045974731s to process project_gutenberg/50010-0.txt\n",
      "Took 2.4008712768554688s to process project_gutenberg/5504.txt\n",
      "Took 2.498310089111328s to process project_gutenberg/55036-0.txt\n",
      "Took 1.528491497039795s to process project_gutenberg/60044-0.txt\n",
      "Took 9.828413486480713s to process project_gutenberg/55034-0.txt\n",
      "Took 17.78027653694153s to process project_gutenberg/8800.txt\n",
      "Took 21.021267414093018s to process project_gutenberg/60040-0.txt\n",
      "Took 5.833612680435181s to process project_gutenberg/500.txt\n",
      "Took 1.0253796577453613s to process project_gutenberg/55031-0.txt\n",
      "Took 3.816877603530884s to process project_gutenberg/60039-0.txt\n",
      "Took 5.238253116607666s to process project_gutenberg/8799.txt\n",
      "Took 1.7693636417388916s to process project_gutenberg/8798.txt\n",
      "Took 8.684065103530884s to process project_gutenberg/55024.txt\n",
      "Took 1.0242524147033691s to process project_gutenberg/8797.txt\n",
      "Took 0.5954339504241943s to process project_gutenberg/5.txt\n",
      "Took 18.788485050201416s to process project_gutenberg/60037-0.txt\n",
      "Took 2.1696438789367676s to process project_gutenberg/8796.txt\n",
      "Took 10.002420663833618s to process project_gutenberg/55020-0.txt\n",
      "Took 15.292553424835205s to process project_gutenberg/60036-0.txt\n",
      "Took 22.306090116500854s to process project_gutenberg/49999-0.txt\n",
      "Took 5.560368299484253s to process project_gutenberg/8795.txt\n",
      "Took 1.2734410762786865s to process project_gutenberg/8794.txt\n",
      "Took 28.3508517742157s to process project_gutenberg/60035-0.txt\n",
      "Took 1.0569348335266113s to process project_gutenberg/8793.txt\n",
      "Took 5.858603477478027s to process project_gutenberg/55018-0.txt\n",
      "Took 1.225553274154663s to process project_gutenberg/8792.txt\n",
      "Took 2.574014186859131s to process project_gutenberg/49988-0.txt\n",
      "Took 8.340892553329468s to process project_gutenberg/55017-0.txt\n",
      "Took 0.8809046745300293s to process project_gutenberg/8791.txt\n",
      "Took 0.6029770374298096s to process project_gutenberg/8790.txt\n",
      "Took 22.820861101150513s to process project_gutenberg/49986-0.txt\n",
      "Took 1.386885166168213s to process project_gutenberg/55015-0.txt\n",
      "Took 5.565725803375244s to process project_gutenberg/8789.txt\n",
      "Took 8.387021541595459s to process project_gutenberg/55011-0.txt\n",
      "Took 4.26381778717041s to process project_gutenberg/49983-0.txt\n",
      "Took 1.63877534866333s to process project_gutenberg/60024.txt\n",
      "Took 3.683203935623169s to process project_gutenberg/55010-0.txt\n",
      "Took 2.4091885089874268s to process project_gutenberg/60023-0.txt\n",
      "Took 0.9476931095123291s to process project_gutenberg/49980-0.txt\n"
     ]
    },
    {
     "name": "stdout",
     "output_type": "stream",
     "text": [
      "Took 6.251887559890747s to process project_gutenberg/55008-0.txt\n",
      "Took 2.469034194946289s to process project_gutenberg/8785.txt\n",
      "Took 15.281708240509033s to process project_gutenberg/60021-0.txt\n",
      "Took 1.0797576904296875s to process project_gutenberg/55007-0.txt\n",
      "Took 1.884430170059204s to process project_gutenberg/49976.txt\n",
      "Took 9.89382028579712s to process project_gutenberg/55005-0.txt\n",
      "Took 1.1247966289520264s to process project_gutenberg/55004-0.txt\n",
      "Took 1.506303310394287s to process project_gutenberg/55003-0.txt\n",
      "Took 2.778108596801758s to process project_gutenberg/49969-0.txt\n",
      "Took 9.260915517807007s to process project_gutenberg/60018-0.txt\n",
      "Took 0.23726105690002441s to process project_gutenberg/49968-0.txt\n",
      "Took 3.492902994155884s to process project_gutenberg/60017.txt\n",
      "Took 0.31556272506713867s to process project_gutenberg/8779.txt\n",
      "Took 4.042915105819702s to process project_gutenberg/49967.txt\n",
      "Took 0.7317230701446533s to process project_gutenberg/49966-0.txt\n",
      "Took 1.4260172843933105s to process project_gutenberg/60014-0.txt\n",
      "Took 10.595425605773926s to process project_gutenberg/49962-0.txt\n",
      "Took 13.15075945854187s to process project_gutenberg/5500-0.txt\n",
      "Took 2.011929750442505s to process project_gutenberg/8774.txt\n",
      "Took 0.06238913536071777s to process project_gutenberg/60012-0.txt\n",
      "Took 11.406482934951782s to process project_gutenberg/550-0.txt\n",
      "Took 14.418113946914673s to process project_gutenberg/49961-0.txt\n",
      "Took 2.4693219661712646s to process project_gutenberg/8772.txt\n",
      "Took 5.713542222976685s to process project_gutenberg/55.txt\n",
      "Took 11.205661535263062s to process project_gutenberg/4996.txt\n",
      "Took 8.451607942581177s to process project_gutenberg/54996-0.txt\n",
      "Took 0.672957181930542s to process project_gutenberg/877.txt\n",
      "Took 6.131774663925171s to process project_gutenberg/54995-0.txt\n",
      "Took 2.0092289447784424s to process project_gutenberg/876.txt\n",
      "Took 4.7830140590667725s to process project_gutenberg/49957.txt\n",
      "Took 2.839914560317993s to process project_gutenberg/875-0.txt\n",
      "Took 13.566707849502563s to process project_gutenberg/54993-0.txt\n",
      "Took 11.317512035369873s to process project_gutenberg/8744.txt\n",
      "Took 4.850760459899902s to process project_gutenberg/60005-0.txt\n",
      "Took 22.483844995498657s to process project_gutenberg/54992-0.txt\n",
      "Took 10.487982273101807s to process project_gutenberg/8743.txt\n",
      "Took 8.362537860870361s to process project_gutenberg/54990-0.txt\n",
      "Took 22.725807666778564s to process project_gutenberg/49953-0.txt\n",
      "Took 5.411793231964111s to process project_gutenberg/8742.txt\n",
      "Took 9.056306600570679s to process project_gutenberg/8741.txt\n",
      "Took 6.258310556411743s to process project_gutenberg/54989-0.txt\n",
      "Took 6.036773443222046s to process project_gutenberg/600.txt\n",
      "Took 9.4136643409729s to process project_gutenberg/4995.txt\n",
      "Took 13.776670694351196s to process project_gutenberg/60-0.txt\n",
      "Took 16.296489000320435s to process project_gutenberg/54987-0.txt\n",
      "Took 12.897867679595947s to process project_gutenberg/59999-0.txt\n",
      "Took 7.423065185546875s to process project_gutenberg/54986-0.txt\n",
      "Took 44.618555545806885s to process project_gutenberg/8737.txt\n",
      "Took 18.458686351776123s to process project_gutenberg/49947-0.txt\n",
      "Took 1.028186321258545s to process project_gutenberg/59995-0.txt\n",
      "Took 0.30525779724121094s to process project_gutenberg/49945-0.txt\n",
      "Took 21.02730369567871s to process project_gutenberg/54982-0.txt\n",
      "Took 3.176799774169922s to process project_gutenberg/59990.txt\n",
      "Took 29.041740655899048s to process project_gutenberg/5999.txt\n",
      "Took 6.479901075363159s to process project_gutenberg/8735.txt\n",
      "Took 1.355903148651123s to process project_gutenberg/59988-0.txt\n",
      "Took 1.0176331996917725s to process project_gutenberg/54978-0.txt\n",
      "Took 13.061421632766724s to process project_gutenberg/49941-0.txt\n",
      "Took 7.518969297409058s to process project_gutenberg/59986-0.txt\n",
      "Took 7.319712162017822s to process project_gutenberg/4994.txt\n",
      "Took 1.7781615257263184s to process project_gutenberg/54976-0.txt\n",
      "Took 15.758492708206177s to process project_gutenberg/8732.txt\n",
      "Took 11.059880495071411s to process project_gutenberg/54974-0.txt\n",
      "Took 1.0873432159423828s to process project_gutenberg/59984.txt\n",
      "Took 0.5211012363433838s to process project_gutenberg/59983-0.txt\n",
      "Took 13.15600299835205s to process project_gutenberg/49935.txt\n",
      "Took 4.653956890106201s to process project_gutenberg/873-0.txt\n",
      "Took 2.602372169494629s to process project_gutenberg/54970-0.txt\n",
      "Took 11.784239292144775s to process project_gutenberg/8727.txt\n",
      "Took 11.439791440963745s to process project_gutenberg/4993.txt\n",
      "Took 20.78911781311035s to process project_gutenberg/54968-0.txt\n",
      "Took 32.91242694854736s to process project_gutenberg/5998.txt\n",
      "Took 3.483508586883545s to process project_gutenberg/49925-0.txt\n",
      "Took 38.37939691543579s to process project_gutenberg/8726.txt\n",
      "Took 8.886027336120605s to process project_gutenberg/54967-0.txt\n",
      "Took 32.86207294464111s to process project_gutenberg/5998-0.txt\n",
      "Took 0.24184250831604004s to process project_gutenberg/8706.txt\n",
      "Took 0.10392355918884277s to process project_gutenberg/59947.txt\n",
      "Took 0.2077794075012207s to process project_gutenberg/8666.txt\n",
      "Took 0.09085488319396973s to process project_gutenberg/59785-0.txt\n",
      "Took 0.14585208892822266s to process project_gutenberg/59735-0.txt\n",
      "Took 0.13296103477478027s to process project_gutenberg/59734-0.txt\n",
      "Took 0.1789088249206543s to process project_gutenberg/59706-8.txt\n",
      "Took 0.12626171112060547s to process project_gutenberg/59693.txt\n",
      "Took 0.2042851448059082s to process project_gutenberg/59690-0.txt\n",
      "Took 0.1318526268005371s to process project_gutenberg/59671-0.txt\n",
      "Took 0.08409500122070312s to process project_gutenberg/54644.txt\n",
      "Took 0.2181234359741211s to process project_gutenberg/59637-0.txt\n",
      "Took 0.13085412979125977s to process project_gutenberg/59627-0.txt\n",
      "Took 0.10090231895446777s to process project_gutenberg/59615-0.txt\n",
      "Took 75.271311044693s to process project_gutenberg/54617-0.txt\n",
      "Took 0.14942193031311035s to process project_gutenberg/59610-0.txt\n",
      "Took 2.532452344894409s to process project_gutenberg/8380.txt\n",
      "Took 13.022459030151367s to process project_gutenberg/838.txt\n",
      "Took 0.6095108985900879s to process project_gutenberg/59609.txt\n",
      "Took 9.830276489257812s to process project_gutenberg/54613-0.txt\n",
      "Took 7.206364870071411s to process project_gutenberg/59608-0.txt\n",
      "Took 11.624759674072266s to process project_gutenberg/49489-0.txt\n",
      "Took 1.789299488067627s to process project_gutenberg/8379-0.txt\n",
      "Took 31.891926288604736s to process project_gutenberg/59607-0.txt\n",
      "Took 9.46897268295288s to process project_gutenberg/49484-0.txt\n",
      "Took 2.9297754764556885s to process project_gutenberg/5461.txt\n",
      "Took 5.851643323898315s to process project_gutenberg/8377.txt\n",
      "Took 1.2988228797912598s to process project_gutenberg/59605-0.txt\n",
      "Took 1.6673839092254639s to process project_gutenberg/54609-0.txt\n",
      "Took 1.0829596519470215s to process project_gutenberg/49481.txt\n",
      "Took 1.2961976528167725s to process project_gutenberg/59603-0.txt\n",
      "Took 1.1667861938476562s to process project_gutenberg/49480-0.txt\n",
      "Took 30.43641686439514s to process project_gutenberg/8374.txt\n",
      "Took 4.085206031799316s to process project_gutenberg/54607-0.txt\n",
      "Took 0.3522067070007324s to process project_gutenberg/59602.txt\n",
      "Took 6.349194288253784s to process project_gutenberg/4948.txt\n",
      "Took 5.95569920539856s to process project_gutenberg/59601-0.txt\n",
      "Took 11.498579502105713s to process project_gutenberg/837.txt\n",
      "Took 2.0893449783325195s to process project_gutenberg/49479.txt\n",
      "Took 0.07559585571289062s to process project_gutenberg/54605.txt\n",
      "Took 1.7159383296966553s to process project_gutenberg/5960.txt\n",
      "Took 10.244175434112549s to process project_gutenberg/836.txt\n",
      "Took 0.5643377304077148s to process project_gutenberg/49477-0.txt\n",
      "Took 1.5620355606079102s to process project_gutenberg/49476-0.txt\n",
      "Took 2.098998785018921s to process project_gutenberg/835-0.txt\n",
      "Took 1.8529088497161865s to process project_gutenberg/49475-0.txt\n",
      "Took 13.925307273864746s to process project_gutenberg/546.txt\n",
      "Took 14.99733853340149s to process project_gutenberg/834-0.txt\n",
      "Took 5.347378492355347s to process project_gutenberg/59594.txt\n",
      "Took 19.29850697517395s to process project_gutenberg/54599-0.txt\n",
      "Took 19.27336859703064s to process project_gutenberg/59593-0.txt\n",
      "Took 14.371524572372437s to process project_gutenberg/54598-0.txt\n"
     ]
    },
    {
     "name": "stdout",
     "output_type": "stream",
     "text": [
      "Took 8.40685486793518s to process project_gutenberg/54595.txt\n",
      "Took 7.176025867462158s to process project_gutenberg/49465-0.txt\n",
      "Took 4.243227958679199s to process project_gutenberg/59591-0.txt\n",
      "Took 11.070806980133057s to process project_gutenberg/54594.txt\n",
      "Took 35.73198342323303s to process project_gutenberg/5959.txt\n",
      "Took 11.798706769943237s to process project_gutenberg/54593.txt\n",
      "Took 14.717475891113281s to process project_gutenberg/83.txt\n",
      "Took 10.218444347381592s to process project_gutenberg/49458-0.txt\n",
      "Took 3.153334856033325s to process project_gutenberg/5459.txt\n",
      "Took 5.5657243728637695s to process project_gutenberg/8296.txt\n",
      "Took 24.929543256759644s to process project_gutenberg/59585-0.txt\n",
      "Took 3.1058266162872314s to process project_gutenberg/54589-0.txt\n",
      "Took 9.351983308792114s to process project_gutenberg/4945.txt\n",
      "Took 25.97222328186035s to process project_gutenberg/59584-0.txt\n",
      "Took 16.088910341262817s to process project_gutenberg/829-0.txt\n",
      "Took 44.69218420982361s to process project_gutenberg/54587-0.txt\n",
      "Took 4.633833408355713s to process project_gutenberg/5958.txt\n",
      "Took 4.398010492324829s to process project_gutenberg/54585-0.txt\n",
      "Took 4.852967023849487s to process project_gutenberg/59579.txt\n",
      "Took 22.743168354034424s to process project_gutenberg/49447-0.txt\n",
      "Took 1.580873727798462s to process project_gutenberg/54584-0.txt\n",
      "Took 10.533161163330078s to process project_gutenberg/59578-0.txt\n",
      "Took 15.172691583633423s to process project_gutenberg/824-0.txt\n",
      "Took 2.0652050971984863s to process project_gutenberg/54581-0.txt\n",
      "Took 5.805088520050049s to process project_gutenberg/59576.txt\n",
      "Took 1.705651044845581s to process project_gutenberg/49440-0.txt\n",
      "Took 1.1652891635894775s to process project_gutenberg/59574-0.txt\n",
      "Took 2.3755605220794678s to process project_gutenberg/5458.txt\n",
      "Took 20.639567136764526s to process project_gutenberg/59573-0.txt\n",
      "Took 6.834256172180176s to process project_gutenberg/54579-0.txt\n",
      "Took 10.296555995941162s to process project_gutenberg/8222.txt\n",
      "Took 0.06030893325805664s to process project_gutenberg/59572-0.txt\n",
      "Took 1.2997784614562988s to process project_gutenberg/59571-0.txt\n",
      "Took 47.50094175338745s to process project_gutenberg/54578-0.txt\n",
      "Took 0.07938647270202637s to process project_gutenberg/59570-0.txt\n",
      "Took 19.091949939727783s to process project_gutenberg/4943.txt\n",
      "Took 12.134900331497192s to process project_gutenberg/54577-0.txt\n",
      "Took 9.92739748954773s to process project_gutenberg/5957.txt\n",
      "Took 8.925953388214111s to process project_gutenberg/59567-0.txt\n",
      "Took 4.106006860733032s to process project_gutenberg/8217.txt\n",
      "Took 2.7901217937469482s to process project_gutenberg/59566-0.txt\n",
      "Took 9.157637119293213s to process project_gutenberg/49425-0.txt\n",
      "Took 2.8480336666107178s to process project_gutenberg/5457.txt\n",
      "Took 20.906397104263306s to process project_gutenberg/49422-0.txt\n",
      "Took 57.344273805618286s to process project_gutenberg/821.txt\n",
      "Took 0.9183695316314697s to process project_gutenberg/54564-0.txt\n",
      "Took 8.626332521438599s to process project_gutenberg/49421-0.txt\n",
      "Took 1.514035701751709s to process project_gutenberg/54563-0.txt\n",
      "Took 3.2223961353302s to process project_gutenberg/54562-0.txt\n",
      "Took 1.873570442199707s to process project_gutenberg/8209.txt\n",
      "Took 2.4420769214630127s to process project_gutenberg/5456.txt\n",
      "Took 2.5105819702148438s to process project_gutenberg/59557.txt\n",
      "Took 13.792573928833008s to process project_gutenberg/8206.txt\n",
      "Took 12.959845304489136s to process project_gutenberg/54558-0.txt\n",
      "Took 7.95213770866394s to process project_gutenberg/4941.txt\n",
      "Took 3.129387140274048s to process project_gutenberg/49407-0.txt\n",
      "Took 24.978811264038086s to process project_gutenberg/8203-0.txt\n",
      "Took 14.79987120628357s to process project_gutenberg/59552-0.txt\n",
      "Took 46.15308380126953s to process project_gutenberg/54554-0.txt\n",
      "Took 19.11064600944519s to process project_gutenberg/49405-0.txt\n",
      "Took 27.55608105659485s to process project_gutenberg/8201.txt\n",
      "Took 4.875574111938477s to process project_gutenberg/59550-0.txt\n",
      "Took 15.51199460029602s to process project_gutenberg/54552-0.txt\n",
      "Took 1.8754711151123047s to process project_gutenberg/5955.txt\n",
      "Took 8.953739404678345s to process project_gutenberg/54550-0.txt\n",
      "Took 24.917908906936646s to process project_gutenberg/49402-0.txt\n",
      "Took 40.30814838409424s to process project_gutenberg/820.txt\n",
      "Took 2.8720157146453857s to process project_gutenberg/5455.txt\n",
      "Took 30.904305934906006s to process project_gutenberg/82.txt\n",
      "Took 3.4240269660949707s to process project_gutenberg/59543-0.txt\n",
      "Took 7.426266431808472s to process project_gutenberg/4940.txt\n",
      "Took 0.1512904167175293s to process project_gutenberg/59541-0.txt\n",
      "Took 3.362683057785034s to process project_gutenberg/8199.txt\n",
      "Took 0.8731307983398438s to process project_gutenberg/59540-8.txt\n",
      "Took 13.37270975112915s to process project_gutenberg/54545-0.txt\n",
      "Took 12.018156290054321s to process project_gutenberg/8198.txt\n",
      "Took 3.0373494625091553s to process project_gutenberg/8197.txt\n",
      "Took 14.842397451400757s to process project_gutenberg/59538-0.txt\n",
      "Took 2.487335681915283s to process project_gutenberg/49392.txt\n",
      "Took 17.149014949798584s to process project_gutenberg/54544-0.txt\n",
      "Took 3.3028743267059326s to process project_gutenberg/59535.txt\n",
      "Took 7.368910551071167s to process project_gutenberg/8195.txt\n",
      "Took 14.344056129455566s to process project_gutenberg/54542-0.txt\n",
      "Took 12.370816707611084s to process project_gutenberg/4939.txt\n",
      "Took 12.70687484741211s to process project_gutenberg/54541-0.txt\n",
      "Took 5.17488694190979s to process project_gutenberg/8191.txt\n",
      "Took 15.664012432098389s to process project_gutenberg/59530-0.txt\n",
      "Took 8.093767881393433s to process project_gutenberg/54540-0.txt\n",
      "Took 4.471729040145874s to process project_gutenberg/8190.txt\n",
      "Took 8.524721145629883s to process project_gutenberg/49389-0.txt\n",
      "Took 2.374127149581909s to process project_gutenberg/5454.txt\n",
      "Took 2.0799560546875s to process project_gutenberg/49386.txt\n",
      "Took 3.7518930435180664s to process project_gutenberg/49385.txt\n",
      "Took 12.905285120010376s to process project_gutenberg/54539-0.txt\n",
      "Took 0.8162004947662354s to process project_gutenberg/59528-0.txt\n",
      "Took 14.78355097770691s to process project_gutenberg/49384-0.txt\n",
      "Took 4.294490098953247s to process project_gutenberg/54537-0.txt\n",
      "Took 5.3016674518585205s to process project_gutenberg/49382-0.txt\n",
      "Took 11.67118787765503s to process project_gutenberg/54536-0.txt\n",
      "Took 2.462411642074585s to process project_gutenberg/59523.txt\n",
      "Took 19.07806420326233s to process project_gutenberg/8184.txt\n",
      "Took 11.631271123886108s to process project_gutenberg/49380-0.txt\n",
      "Took 1.45672607421875s to process project_gutenberg/54534-0.txt\n",
      "Took 5.390470027923584s to process project_gutenberg/8183.txt\n",
      "Took 1.8564441204071045s to process project_gutenberg/49378-0.txt\n",
      "Took 5.929360866546631s to process project_gutenberg/59520-0.txt\n",
      "Took 7.46722412109375s to process project_gutenberg/54533.txt\n",
      "Took 6.212518930435181s to process project_gutenberg/5952.txt\n",
      "Took 1.9459545612335205s to process project_gutenberg/49375-0.txt\n",
      "Took 13.43772840499878s to process project_gutenberg/8181.txt\n",
      "Took 5.300806999206543s to process project_gutenberg/59519.txt\n",
      "Took 2.5683844089508057s to process project_gutenberg/8180.txt\n",
      "Took 33.61423635482788s to process project_gutenberg/54531-0.txt\n",
      "Took 14.696255683898926s to process project_gutenberg/8179.txt\n",
      "Took 15.938019275665283s to process project_gutenberg/49369-0.txt\n",
      "Took 2.736945629119873s to process project_gutenberg/5453.txt\n",
      "Took 3.350752115249634s to process project_gutenberg/8178.txt\n",
      "Took 9.793926000595093s to process project_gutenberg/54529-0.txt\n",
      "Took 8.982499837875366s to process project_gutenberg/8177.txt\n",
      "Took 1.1280648708343506s to process project_gutenberg/49366-0.txt\n",
      "Took 1.6352319717407227s to process project_gutenberg/54527-0.txt\n",
      "Took 0.6873126029968262s to process project_gutenberg/59514.txt\n",
      "Took 5.255419015884399s to process project_gutenberg/8176.txt\n",
      "Took 4.810646295547485s to process project_gutenberg/49364-0.txt\n",
      "Took 22.087920427322388s to process project_gutenberg/54525-0.txt\n",
      "Took 6.169934988021851s to process project_gutenberg/8172.txt\n",
      "Took 22.4194438457489s to process project_gutenberg/59512-0.txt\n",
      "Took 3.276517391204834s to process project_gutenberg/54523.txt\n"
     ]
    },
    {
     "name": "stdout",
     "output_type": "stream",
     "text": [
      "Took 14.045061349868774s to process project_gutenberg/8171-0.txt\n",
      "Took 12.732306003570557s to process project_gutenberg/59511-0.txt\n",
      "Took 2.4329304695129395s to process project_gutenberg/5452.txt\n",
      "Took 8.01193881034851s to process project_gutenberg/8170.txt\n",
      "Took 0.8667819499969482s to process project_gutenberg/59509-0.txt\n",
      "Took 12.029584407806396s to process project_gutenberg/54519-0.txt\n",
      "Took 0.17429637908935547s to process project_gutenberg/59507-0.txt\n",
      "Took 13.576961278915405s to process project_gutenberg/8168.txt\n",
      "Took 1.3249502182006836s to process project_gutenberg/54515.txt\n",
      "Took 33.59020686149597s to process project_gutenberg/49353-0.txt\n",
      "Took 11.779735326766968s to process project_gutenberg/54514-0.txt\n",
      "Took 41.32939386367798s to process project_gutenberg/59506-0.txt\n",
      "Took 10.931822776794434s to process project_gutenberg/8166.txt\n",
      "Took 10.538245677947998s to process project_gutenberg/8165.txt\n",
      "Took 2.0646512508392334s to process project_gutenberg/5451.txt\n",
      "Took 8.435473203659058s to process project_gutenberg/8164.txt\n",
      "Took 1.5200388431549072s to process project_gutenberg/54509-0.txt\n",
      "Took 5.141605854034424s to process project_gutenberg/59501-0.txt\n",
      "Took 1.5316524505615234s to process project_gutenberg/8161.txt\n",
      "Took 1.7914128303527832s to process project_gutenberg/54506.txt\n",
      "Took 22.34893774986267s to process project_gutenberg/8160.txt\n",
      "Took 32.37531113624573s to process project_gutenberg/5950.txt\n",
      "Took 22.763421297073364s to process project_gutenberg/49345-0.txt\n",
      "Took 9.116790294647217s to process project_gutenberg/54504.txt\n",
      "Took 20.64041018486023s to process project_gutenberg/816.txt\n",
      "Took 13.0143404006958s to process project_gutenberg/49343-0.txt\n",
      "Took 1.1818690299987793s to process project_gutenberg/595.txt\n",
      "Took 12.820265531539917s to process project_gutenberg/8159.txt\n",
      "Took 49.110175132751465s to process project_gutenberg/54503-0.txt\n",
      "Took 2.7171573638916016s to process project_gutenberg/49340-0.txt\n",
      "Took 22.155929803848267s to process project_gutenberg/8157.txt\n",
      "Took 12.734212160110474s to process project_gutenberg/54501-0.txt\n",
      "Took 0.5752058029174805s to process project_gutenberg/59494.txt\n",
      "Took 8.189483404159546s to process project_gutenberg/49339-0.txt\n"
     ]
    },
    {
     "ename": "ServerSelectionTimeoutError",
     "evalue": "localhost:27017: [Errno 111] Connection refused",
     "output_type": "error",
     "traceback": [
      "\u001b[0;31m---------------------------------------------------------------------------\u001b[0m",
      "\u001b[0;31mServerSelectionTimeoutError\u001b[0m               Traceback (most recent call last)",
      "\u001b[0;32m<ipython-input-9-c7eee8e9f8c2>\u001b[0m in \u001b[0;36m<module>\u001b[0;34m\u001b[0m\n\u001b[1;32m      1\u001b[0m \u001b[0;32mfor\u001b[0m \u001b[0mfile\u001b[0m \u001b[0;32min\u001b[0m \u001b[0mfilelist\u001b[0m\u001b[0;34m:\u001b[0m\u001b[0;34m\u001b[0m\u001b[0;34m\u001b[0m\u001b[0m\n\u001b[0;32m----> 2\u001b[0;31m     \u001b[0mget_style_metrics\u001b[0m\u001b[0;34m(\u001b[0m\u001b[0mfile\u001b[0m\u001b[0;34m)\u001b[0m\u001b[0;34m\u001b[0m\u001b[0;34m\u001b[0m\u001b[0m\n\u001b[0m",
      "\u001b[0;32m~/stylometric-analysis-project-gutenberg/stylometry.py\u001b[0m in \u001b[0;36mget_style_metrics\u001b[0;34m(file, collection)\u001b[0m\n\u001b[1;32m    262\u001b[0m     \u001b[0mmetrics_dict\u001b[0m\u001b[0;34m[\u001b[0m\u001b[0;34m'metrics'\u001b[0m\u001b[0;34m]\u001b[0m\u001b[0;34m[\u001b[0m\u001b[0;34m'avg_dependency_distance'\u001b[0m\u001b[0;34m]\u001b[0m \u001b[0;34m=\u001b[0m \u001b[0mavg_dependency_distance\u001b[0m\u001b[0;34m(\u001b[0m\u001b[0mdoc\u001b[0m\u001b[0;34m)\u001b[0m\u001b[0;34m\u001b[0m\u001b[0;34m\u001b[0m\u001b[0m\n\u001b[1;32m    263\u001b[0m \u001b[0;34m\u001b[0m\u001b[0m\n\u001b[0;32m--> 264\u001b[0;31m     \u001b[0mcollection\u001b[0m\u001b[0;34m.\u001b[0m\u001b[0mupdate_one\u001b[0m\u001b[0;34m(\u001b[0m\u001b[0;34m{\u001b[0m\u001b[0;34m'file'\u001b[0m\u001b[0;34m:\u001b[0m \u001b[0mfile\u001b[0m\u001b[0;34m}\u001b[0m\u001b[0;34m,\u001b[0m \u001b[0;34m{\u001b[0m\u001b[0;34m'$set'\u001b[0m\u001b[0;34m:\u001b[0m \u001b[0mmetrics_dict\u001b[0m\u001b[0;34m}\u001b[0m\u001b[0;34m)\u001b[0m\u001b[0;34m\u001b[0m\u001b[0;34m\u001b[0m\u001b[0m\n\u001b[0m\u001b[1;32m    265\u001b[0m \u001b[0;34m\u001b[0m\u001b[0m\n\u001b[1;32m    266\u001b[0m     \u001b[0mprint\u001b[0m\u001b[0;34m(\u001b[0m\u001b[0;34mf'Took {time.time() - s}s to process {file}'\u001b[0m\u001b[0;34m)\u001b[0m\u001b[0;34m\u001b[0m\u001b[0;34m\u001b[0m\u001b[0m\n",
      "\u001b[0;32m~/anaconda3/envs/gutenberg/lib/python3.7/site-packages/pymongo/collection.py\u001b[0m in \u001b[0;36mupdate_one\u001b[0;34m(self, filter, update, upsert, bypass_document_validation, collation, array_filters, session)\u001b[0m\n\u001b[1;32m   1001\u001b[0m                 \u001b[0mbypass_doc_val\u001b[0m\u001b[0;34m=\u001b[0m\u001b[0mbypass_document_validation\u001b[0m\u001b[0;34m,\u001b[0m\u001b[0;34m\u001b[0m\u001b[0;34m\u001b[0m\u001b[0m\n\u001b[1;32m   1002\u001b[0m                 \u001b[0mcollation\u001b[0m\u001b[0;34m=\u001b[0m\u001b[0mcollation\u001b[0m\u001b[0;34m,\u001b[0m \u001b[0marray_filters\u001b[0m\u001b[0;34m=\u001b[0m\u001b[0marray_filters\u001b[0m\u001b[0;34m,\u001b[0m\u001b[0;34m\u001b[0m\u001b[0;34m\u001b[0m\u001b[0m\n\u001b[0;32m-> 1003\u001b[0;31m                 session=session),\n\u001b[0m\u001b[1;32m   1004\u001b[0m             write_concern.acknowledged)\n\u001b[1;32m   1005\u001b[0m \u001b[0;34m\u001b[0m\u001b[0m\n",
      "\u001b[0;32m~/anaconda3/envs/gutenberg/lib/python3.7/site-packages/pymongo/collection.py\u001b[0m in \u001b[0;36m_update_retryable\u001b[0;34m(self, criteria, document, upsert, check_keys, multi, manipulate, write_concern, op_id, ordered, bypass_doc_val, collation, array_filters, session)\u001b[0m\n\u001b[1;32m    854\u001b[0m         return self.__database.client._retryable_write(\n\u001b[1;32m    855\u001b[0m             \u001b[0;34m(\u001b[0m\u001b[0mwrite_concern\u001b[0m \u001b[0;32mor\u001b[0m \u001b[0mself\u001b[0m\u001b[0;34m.\u001b[0m\u001b[0mwrite_concern\u001b[0m\u001b[0;34m)\u001b[0m\u001b[0;34m.\u001b[0m\u001b[0macknowledged\u001b[0m \u001b[0;32mand\u001b[0m \u001b[0;32mnot\u001b[0m \u001b[0mmulti\u001b[0m\u001b[0;34m,\u001b[0m\u001b[0;34m\u001b[0m\u001b[0;34m\u001b[0m\u001b[0m\n\u001b[0;32m--> 856\u001b[0;31m             _update, session)\n\u001b[0m\u001b[1;32m    857\u001b[0m \u001b[0;34m\u001b[0m\u001b[0m\n\u001b[1;32m    858\u001b[0m     def replace_one(self, filter, replacement, upsert=False,\n",
      "\u001b[0;32m~/anaconda3/envs/gutenberg/lib/python3.7/site-packages/pymongo/mongo_client.py\u001b[0m in \u001b[0;36m_retryable_write\u001b[0;34m(self, retryable, func, session)\u001b[0m\n\u001b[1;32m   1488\u001b[0m     \u001b[0;32mdef\u001b[0m \u001b[0m_retryable_write\u001b[0m\u001b[0;34m(\u001b[0m\u001b[0mself\u001b[0m\u001b[0;34m,\u001b[0m \u001b[0mretryable\u001b[0m\u001b[0;34m,\u001b[0m \u001b[0mfunc\u001b[0m\u001b[0;34m,\u001b[0m \u001b[0msession\u001b[0m\u001b[0;34m)\u001b[0m\u001b[0;34m:\u001b[0m\u001b[0;34m\u001b[0m\u001b[0;34m\u001b[0m\u001b[0m\n\u001b[1;32m   1489\u001b[0m         \u001b[0;34m\"\"\"Internal retryable write helper.\"\"\"\u001b[0m\u001b[0;34m\u001b[0m\u001b[0;34m\u001b[0m\u001b[0m\n\u001b[0;32m-> 1490\u001b[0;31m         \u001b[0;32mwith\u001b[0m \u001b[0mself\u001b[0m\u001b[0;34m.\u001b[0m\u001b[0m_tmp_session\u001b[0m\u001b[0;34m(\u001b[0m\u001b[0msession\u001b[0m\u001b[0;34m)\u001b[0m \u001b[0;32mas\u001b[0m \u001b[0ms\u001b[0m\u001b[0;34m:\u001b[0m\u001b[0;34m\u001b[0m\u001b[0;34m\u001b[0m\u001b[0m\n\u001b[0m\u001b[1;32m   1491\u001b[0m             \u001b[0;32mreturn\u001b[0m \u001b[0mself\u001b[0m\u001b[0;34m.\u001b[0m\u001b[0m_retry_with_session\u001b[0m\u001b[0;34m(\u001b[0m\u001b[0mretryable\u001b[0m\u001b[0;34m,\u001b[0m \u001b[0mfunc\u001b[0m\u001b[0;34m,\u001b[0m \u001b[0ms\u001b[0m\u001b[0;34m,\u001b[0m \u001b[0;32mNone\u001b[0m\u001b[0;34m)\u001b[0m\u001b[0;34m\u001b[0m\u001b[0;34m\u001b[0m\u001b[0m\n\u001b[1;32m   1492\u001b[0m \u001b[0;34m\u001b[0m\u001b[0m\n",
      "\u001b[0;32m~/anaconda3/envs/gutenberg/lib/python3.7/contextlib.py\u001b[0m in \u001b[0;36m__enter__\u001b[0;34m(self)\u001b[0m\n\u001b[1;32m    110\u001b[0m         \u001b[0;32mdel\u001b[0m \u001b[0mself\u001b[0m\u001b[0;34m.\u001b[0m\u001b[0margs\u001b[0m\u001b[0;34m,\u001b[0m \u001b[0mself\u001b[0m\u001b[0;34m.\u001b[0m\u001b[0mkwds\u001b[0m\u001b[0;34m,\u001b[0m \u001b[0mself\u001b[0m\u001b[0;34m.\u001b[0m\u001b[0mfunc\u001b[0m\u001b[0;34m\u001b[0m\u001b[0;34m\u001b[0m\u001b[0m\n\u001b[1;32m    111\u001b[0m         \u001b[0;32mtry\u001b[0m\u001b[0;34m:\u001b[0m\u001b[0;34m\u001b[0m\u001b[0;34m\u001b[0m\u001b[0m\n\u001b[0;32m--> 112\u001b[0;31m             \u001b[0;32mreturn\u001b[0m \u001b[0mnext\u001b[0m\u001b[0;34m(\u001b[0m\u001b[0mself\u001b[0m\u001b[0;34m.\u001b[0m\u001b[0mgen\u001b[0m\u001b[0;34m)\u001b[0m\u001b[0;34m\u001b[0m\u001b[0;34m\u001b[0m\u001b[0m\n\u001b[0m\u001b[1;32m    113\u001b[0m         \u001b[0;32mexcept\u001b[0m \u001b[0mStopIteration\u001b[0m\u001b[0;34m:\u001b[0m\u001b[0;34m\u001b[0m\u001b[0;34m\u001b[0m\u001b[0m\n\u001b[1;32m    114\u001b[0m             \u001b[0;32mraise\u001b[0m \u001b[0mRuntimeError\u001b[0m\u001b[0;34m(\u001b[0m\u001b[0;34m\"generator didn't yield\"\u001b[0m\u001b[0;34m)\u001b[0m \u001b[0;32mfrom\u001b[0m \u001b[0;32mNone\u001b[0m\u001b[0;34m\u001b[0m\u001b[0;34m\u001b[0m\u001b[0m\n",
      "\u001b[0;32m~/anaconda3/envs/gutenberg/lib/python3.7/site-packages/pymongo/mongo_client.py\u001b[0m in \u001b[0;36m_tmp_session\u001b[0;34m(self, session, close)\u001b[0m\n\u001b[1;32m   1821\u001b[0m             \u001b[0;32mreturn\u001b[0m\u001b[0;34m\u001b[0m\u001b[0;34m\u001b[0m\u001b[0m\n\u001b[1;32m   1822\u001b[0m \u001b[0;34m\u001b[0m\u001b[0m\n\u001b[0;32m-> 1823\u001b[0;31m         \u001b[0ms\u001b[0m \u001b[0;34m=\u001b[0m \u001b[0mself\u001b[0m\u001b[0;34m.\u001b[0m\u001b[0m_ensure_session\u001b[0m\u001b[0;34m(\u001b[0m\u001b[0msession\u001b[0m\u001b[0;34m)\u001b[0m\u001b[0;34m\u001b[0m\u001b[0;34m\u001b[0m\u001b[0m\n\u001b[0m\u001b[1;32m   1824\u001b[0m         \u001b[0;32mif\u001b[0m \u001b[0ms\u001b[0m \u001b[0;32mand\u001b[0m \u001b[0mclose\u001b[0m\u001b[0;34m:\u001b[0m\u001b[0;34m\u001b[0m\u001b[0;34m\u001b[0m\u001b[0m\n\u001b[1;32m   1825\u001b[0m             \u001b[0;32mwith\u001b[0m \u001b[0ms\u001b[0m\u001b[0;34m:\u001b[0m\u001b[0;34m\u001b[0m\u001b[0;34m\u001b[0m\u001b[0m\n",
      "\u001b[0;32m~/anaconda3/envs/gutenberg/lib/python3.7/site-packages/pymongo/mongo_client.py\u001b[0m in \u001b[0;36m_ensure_session\u001b[0;34m(self, session)\u001b[0m\n\u001b[1;32m   1808\u001b[0m             \u001b[0;31m# Don't make implicit sessions causally consistent. Applications\u001b[0m\u001b[0;34m\u001b[0m\u001b[0;34m\u001b[0m\u001b[0;34m\u001b[0m\u001b[0m\n\u001b[1;32m   1809\u001b[0m             \u001b[0;31m# should always opt-in.\u001b[0m\u001b[0;34m\u001b[0m\u001b[0;34m\u001b[0m\u001b[0;34m\u001b[0m\u001b[0m\n\u001b[0;32m-> 1810\u001b[0;31m             \u001b[0;32mreturn\u001b[0m \u001b[0mself\u001b[0m\u001b[0;34m.\u001b[0m\u001b[0m__start_session\u001b[0m\u001b[0;34m(\u001b[0m\u001b[0;32mTrue\u001b[0m\u001b[0;34m,\u001b[0m \u001b[0mcausal_consistency\u001b[0m\u001b[0;34m=\u001b[0m\u001b[0;32mFalse\u001b[0m\u001b[0;34m)\u001b[0m\u001b[0;34m\u001b[0m\u001b[0;34m\u001b[0m\u001b[0m\n\u001b[0m\u001b[1;32m   1811\u001b[0m         \u001b[0;32mexcept\u001b[0m \u001b[0;34m(\u001b[0m\u001b[0mConfigurationError\u001b[0m\u001b[0;34m,\u001b[0m \u001b[0mInvalidOperation\u001b[0m\u001b[0;34m)\u001b[0m\u001b[0;34m:\u001b[0m\u001b[0;34m\u001b[0m\u001b[0;34m\u001b[0m\u001b[0m\n\u001b[1;32m   1812\u001b[0m             \u001b[0;31m# Sessions not supported, or multiple users authenticated.\u001b[0m\u001b[0;34m\u001b[0m\u001b[0;34m\u001b[0m\u001b[0;34m\u001b[0m\u001b[0m\n",
      "\u001b[0;32m~/anaconda3/envs/gutenberg/lib/python3.7/site-packages/pymongo/mongo_client.py\u001b[0m in \u001b[0;36m__start_session\u001b[0;34m(self, implicit, **kwargs)\u001b[0m\n\u001b[1;32m   1761\u001b[0m \u001b[0;34m\u001b[0m\u001b[0m\n\u001b[1;32m   1762\u001b[0m         \u001b[0;31m# Raises ConfigurationError if sessions are not supported.\u001b[0m\u001b[0;34m\u001b[0m\u001b[0;34m\u001b[0m\u001b[0;34m\u001b[0m\u001b[0m\n\u001b[0;32m-> 1763\u001b[0;31m         \u001b[0mserver_session\u001b[0m \u001b[0;34m=\u001b[0m \u001b[0mself\u001b[0m\u001b[0;34m.\u001b[0m\u001b[0m_get_server_session\u001b[0m\u001b[0;34m(\u001b[0m\u001b[0;34m)\u001b[0m\u001b[0;34m\u001b[0m\u001b[0;34m\u001b[0m\u001b[0m\n\u001b[0m\u001b[1;32m   1764\u001b[0m         \u001b[0mopts\u001b[0m \u001b[0;34m=\u001b[0m \u001b[0mclient_session\u001b[0m\u001b[0;34m.\u001b[0m\u001b[0mSessionOptions\u001b[0m\u001b[0;34m(\u001b[0m\u001b[0;34m**\u001b[0m\u001b[0mkwargs\u001b[0m\u001b[0;34m)\u001b[0m\u001b[0;34m\u001b[0m\u001b[0;34m\u001b[0m\u001b[0m\n\u001b[1;32m   1765\u001b[0m         return client_session.ClientSession(\n",
      "\u001b[0;32m~/anaconda3/envs/gutenberg/lib/python3.7/site-packages/pymongo/mongo_client.py\u001b[0m in \u001b[0;36m_get_server_session\u001b[0;34m(self)\u001b[0m\n\u001b[1;32m   1794\u001b[0m     \u001b[0;32mdef\u001b[0m \u001b[0m_get_server_session\u001b[0m\u001b[0;34m(\u001b[0m\u001b[0mself\u001b[0m\u001b[0;34m)\u001b[0m\u001b[0;34m:\u001b[0m\u001b[0;34m\u001b[0m\u001b[0;34m\u001b[0m\u001b[0m\n\u001b[1;32m   1795\u001b[0m         \u001b[0;34m\"\"\"Internal: start or resume a _ServerSession.\"\"\"\u001b[0m\u001b[0;34m\u001b[0m\u001b[0;34m\u001b[0m\u001b[0m\n\u001b[0;32m-> 1796\u001b[0;31m         \u001b[0;32mreturn\u001b[0m \u001b[0mself\u001b[0m\u001b[0;34m.\u001b[0m\u001b[0m_topology\u001b[0m\u001b[0;34m.\u001b[0m\u001b[0mget_server_session\u001b[0m\u001b[0;34m(\u001b[0m\u001b[0;34m)\u001b[0m\u001b[0;34m\u001b[0m\u001b[0;34m\u001b[0m\u001b[0m\n\u001b[0m\u001b[1;32m   1797\u001b[0m \u001b[0;34m\u001b[0m\u001b[0m\n\u001b[1;32m   1798\u001b[0m     \u001b[0;32mdef\u001b[0m \u001b[0m_return_server_session\u001b[0m\u001b[0;34m(\u001b[0m\u001b[0mself\u001b[0m\u001b[0;34m,\u001b[0m \u001b[0mserver_session\u001b[0m\u001b[0;34m,\u001b[0m \u001b[0mlock\u001b[0m\u001b[0;34m)\u001b[0m\u001b[0;34m:\u001b[0m\u001b[0;34m\u001b[0m\u001b[0;34m\u001b[0m\u001b[0m\n",
      "\u001b[0;32m~/anaconda3/envs/gutenberg/lib/python3.7/site-packages/pymongo/topology.py\u001b[0m in \u001b[0;36mget_server_session\u001b[0;34m(self)\u001b[0m\n\u001b[1;32m    483\u001b[0m                             \u001b[0many_server_selector\u001b[0m\u001b[0;34m,\u001b[0m\u001b[0;34m\u001b[0m\u001b[0;34m\u001b[0m\u001b[0m\n\u001b[1;32m    484\u001b[0m                             \u001b[0mself\u001b[0m\u001b[0;34m.\u001b[0m\u001b[0m_settings\u001b[0m\u001b[0;34m.\u001b[0m\u001b[0mserver_selection_timeout\u001b[0m\u001b[0;34m,\u001b[0m\u001b[0;34m\u001b[0m\u001b[0;34m\u001b[0m\u001b[0m\n\u001b[0;32m--> 485\u001b[0;31m                             None)\n\u001b[0m\u001b[1;32m    486\u001b[0m                 \u001b[0;32melif\u001b[0m \u001b[0;32mnot\u001b[0m \u001b[0mself\u001b[0m\u001b[0;34m.\u001b[0m\u001b[0m_description\u001b[0m\u001b[0;34m.\u001b[0m\u001b[0mreadable_servers\u001b[0m\u001b[0;34m:\u001b[0m\u001b[0;34m\u001b[0m\u001b[0;34m\u001b[0m\u001b[0m\n\u001b[1;32m    487\u001b[0m                     self._select_servers_loop(\n",
      "\u001b[0;32m~/anaconda3/envs/gutenberg/lib/python3.7/site-packages/pymongo/topology.py\u001b[0m in \u001b[0;36m_select_servers_loop\u001b[0;34m(self, selector, timeout, address)\u001b[0m\n\u001b[1;32m    207\u001b[0m             \u001b[0;32mif\u001b[0m \u001b[0mtimeout\u001b[0m \u001b[0;34m==\u001b[0m \u001b[0;36m0\u001b[0m \u001b[0;32mor\u001b[0m \u001b[0mnow\u001b[0m \u001b[0;34m>\u001b[0m \u001b[0mend_time\u001b[0m\u001b[0;34m:\u001b[0m\u001b[0;34m\u001b[0m\u001b[0;34m\u001b[0m\u001b[0m\n\u001b[1;32m    208\u001b[0m                 raise ServerSelectionTimeoutError(\n\u001b[0;32m--> 209\u001b[0;31m                     self._error_message(selector))\n\u001b[0m\u001b[1;32m    210\u001b[0m \u001b[0;34m\u001b[0m\u001b[0m\n\u001b[1;32m    211\u001b[0m             \u001b[0mself\u001b[0m\u001b[0;34m.\u001b[0m\u001b[0m_ensure_opened\u001b[0m\u001b[0;34m(\u001b[0m\u001b[0;34m)\u001b[0m\u001b[0;34m\u001b[0m\u001b[0;34m\u001b[0m\u001b[0m\n",
      "\u001b[0;31mServerSelectionTimeoutError\u001b[0m: localhost:27017: [Errno 111] Connection refused"
     ]
    }
   ],
   "source": [
    "for file in filelist:\n",
    "    get_style_metrics(file)"
   ]
  },
  {
   "cell_type": "code",
   "execution_count": null,
   "metadata": {
    "scrolled": true
   },
   "outputs": [],
   "source": [
    "## parallelizing get_style_metrics function\n",
    "n_cpu = mp.cpu_count()\n",
    "with mp.Pool(processes = n_cpu) as p:\n",
    "    p.map(get_style_metrics, filelist)"
   ]
  },
  {
   "cell_type": "code",
   "execution_count": 4,
   "metadata": {},
   "outputs": [
    {
     "name": "stdout",
     "output_type": "stream",
     "text": [
      "(23294, 19)\n"
     ]
    }
   ],
   "source": [
    "datapoints = list(collection.find({}, {'_id': 0, 'text': 0}))\n",
    "df = pd.DataFrame(json_normalize(datapoints))\n",
    "df = df.rename(columns = {'metrics.sttr': 'sttr', 'metrics.hapax_legomenon': 'hapax_legomenon', \n",
    "                          'metrics.yules_k': 'yules_k', 'metrics.function_words': 'function_words', \n",
    "                          'metrics.avg_sentence_length_word': 'avg_sentence_length_word',\n",
    "                          'metrics.avg_sentence_length_chars': 'avg_sentence_length_chars', \n",
    "                          'metrics.avg_syllables_per_word': 'avg_syllables_per_word', \n",
    "                          'metrics.punctuation_sentence': 'punctuation_sentence', \n",
    "                          'metrics.shannon_entropy': 'shannon_entropy',\n",
    "                          'metrics.simpsons_d': 'simpsons_d', 'metrics.average_nps': 'average_nps', \n",
    "                          'metrics.noun_to_verb': 'noun_to_verb', 'metrics.noun_to_adj': 'noun_to_adj', \n",
    "                          'metrics.verb_to_adv': 'verb_to_adv', \n",
    "                          'metrics.avg_dependency_distance': 'avg_dependency_distance'})\n",
    "df.head()\n",
    "print(df.shape)"
   ]
  },
  {
   "cell_type": "code",
   "execution_count": 5,
   "metadata": {},
   "outputs": [
    {
     "data": {
      "text/html": [
       "<div>\n",
       "<style scoped>\n",
       "    .dataframe tbody tr th:only-of-type {\n",
       "        vertical-align: middle;\n",
       "    }\n",
       "\n",
       "    .dataframe tbody tr th {\n",
       "        vertical-align: top;\n",
       "    }\n",
       "\n",
       "    .dataframe thead th {\n",
       "        text-align: right;\n",
       "    }\n",
       "</style>\n",
       "<table border=\"1\" class=\"dataframe\">\n",
       "  <thead>\n",
       "    <tr style=\"text-align: right;\">\n",
       "      <th></th>\n",
       "      <th>file</th>\n",
       "      <th>author</th>\n",
       "      <th>title</th>\n",
       "      <th>year</th>\n",
       "      <th>sttr</th>\n",
       "      <th>hapax_legomenon</th>\n",
       "      <th>yules_k</th>\n",
       "      <th>function_words</th>\n",
       "      <th>avg_sentence_length_word</th>\n",
       "      <th>avg_sentence_length_chars</th>\n",
       "      <th>avg_syllables_per_word</th>\n",
       "      <th>punctuation_sentence</th>\n",
       "      <th>shannon_entropy</th>\n",
       "      <th>simpsons_d</th>\n",
       "      <th>average_nps</th>\n",
       "      <th>noun_to_verb</th>\n",
       "      <th>noun_to_adj</th>\n",
       "      <th>verb_to_adv</th>\n",
       "      <th>avg_dependency_distance</th>\n",
       "    </tr>\n",
       "  </thead>\n",
       "  <tbody>\n",
       "    <tr>\n",
       "      <th>0</th>\n",
       "      <td>project_gutenberg/9999.txt</td>\n",
       "      <td>Sarah H. Bradford</td>\n",
       "      <td>Harriet, The Moses of Her People</td>\n",
       "      <td>1822</td>\n",
       "      <td>0.624214</td>\n",
       "      <td>0.452214</td>\n",
       "      <td>528.796852</td>\n",
       "      <td>0.398840</td>\n",
       "      <td>20.889773</td>\n",
       "      <td>111.791794</td>\n",
       "      <td>1.735272</td>\n",
       "      <td>4.017759</td>\n",
       "      <td>10.845536</td>\n",
       "      <td>0.998584</td>\n",
       "      <td>232.700000</td>\n",
       "      <td>0.640382</td>\n",
       "      <td>0.792910</td>\n",
       "      <td>0.717273</td>\n",
       "      <td>2.338342</td>\n",
       "    </tr>\n",
       "    <tr>\n",
       "      <th>1</th>\n",
       "      <td>project_gutenberg/56195-0.txt</td>\n",
       "      <td>Kenneth Ward</td>\n",
       "      <td>The Boy Volunteers on the Belgian Front</td>\n",
       "      <td>1941</td>\n",
       "      <td>0.585125</td>\n",
       "      <td>0.415000</td>\n",
       "      <td>378.878385</td>\n",
       "      <td>0.397120</td>\n",
       "      <td>14.213115</td>\n",
       "      <td>77.207650</td>\n",
       "      <td>1.752356</td>\n",
       "      <td>2.763206</td>\n",
       "      <td>10.506952</td>\n",
       "      <td>0.997945</td>\n",
       "      <td>232.130435</td>\n",
       "      <td>0.603311</td>\n",
       "      <td>0.811363</td>\n",
       "      <td>0.718462</td>\n",
       "      <td>2.134627</td>\n",
       "    </tr>\n",
       "    <tr>\n",
       "      <th>2</th>\n",
       "      <td>project_gutenberg/51187.txt</td>\n",
       "      <td>John Wilson</td>\n",
       "      <td>A Visit to the Mammoth Cave of Kentucky</td>\n",
       "      <td>1972</td>\n",
       "      <td>0.620000</td>\n",
       "      <td>0.444000</td>\n",
       "      <td>1298.919399</td>\n",
       "      <td>0.428477</td>\n",
       "      <td>27.300300</td>\n",
       "      <td>146.405405</td>\n",
       "      <td>1.720949</td>\n",
       "      <td>4.384384</td>\n",
       "      <td>10.003001</td>\n",
       "      <td>0.998360</td>\n",
       "      <td>222.800000</td>\n",
       "      <td>0.656081</td>\n",
       "      <td>0.777569</td>\n",
       "      <td>0.638938</td>\n",
       "      <td>2.403897</td>\n",
       "    </tr>\n",
       "    <tr>\n",
       "      <th>3</th>\n",
       "      <td>project_gutenberg/51185.txt</td>\n",
       "      <td>Daniel F. Galouye</td>\n",
       "      <td>All Jackson's Children</td>\n",
       "      <td>1970</td>\n",
       "      <td>0.627000</td>\n",
       "      <td>0.486000</td>\n",
       "      <td>1703.701946</td>\n",
       "      <td>0.324357</td>\n",
       "      <td>8.565289</td>\n",
       "      <td>49.239669</td>\n",
       "      <td>1.794130</td>\n",
       "      <td>2.674380</td>\n",
       "      <td>9.511655</td>\n",
       "      <td>0.996898</td>\n",
       "      <td>221.166667</td>\n",
       "      <td>0.586852</td>\n",
       "      <td>0.823569</td>\n",
       "      <td>0.692679</td>\n",
       "      <td>2.098842</td>\n",
       "    </tr>\n",
       "    <tr>\n",
       "      <th>4</th>\n",
       "      <td>project_gutenberg/9997.txt</td>\n",
       "      <td>Francis Parkman</td>\n",
       "      <td>France and England in North America, Part Third</td>\n",
       "      <td>2013</td>\n",
       "      <td>0.686821</td>\n",
       "      <td>0.541750</td>\n",
       "      <td>269.095482</td>\n",
       "      <td>0.372508</td>\n",
       "      <td>21.562230</td>\n",
       "      <td>122.567266</td>\n",
       "      <td>1.868661</td>\n",
       "      <td>4.204856</td>\n",
       "      <td>11.781284</td>\n",
       "      <td>0.998751</td>\n",
       "      <td>241.057143</td>\n",
       "      <td>0.716877</td>\n",
       "      <td>0.837261</td>\n",
       "      <td>0.751203</td>\n",
       "      <td>2.331626</td>\n",
       "    </tr>\n",
       "    <tr>\n",
       "      <th>5</th>\n",
       "      <td>project_gutenberg/9996.txt</td>\n",
       "      <td>Charles Francis Adams</td>\n",
       "      <td>'Tis Sixty Years Since</td>\n",
       "      <td>1814</td>\n",
       "      <td>0.689000</td>\n",
       "      <td>0.525429</td>\n",
       "      <td>1123.982792</td>\n",
       "      <td>0.412379</td>\n",
       "      <td>22.716826</td>\n",
       "      <td>135.894665</td>\n",
       "      <td>2.360974</td>\n",
       "      <td>4.124487</td>\n",
       "      <td>10.880695</td>\n",
       "      <td>0.999149</td>\n",
       "      <td>214.000000</td>\n",
       "      <td>0.671823</td>\n",
       "      <td>0.718001</td>\n",
       "      <td>0.598605</td>\n",
       "      <td>2.411298</td>\n",
       "    </tr>\n",
       "    <tr>\n",
       "      <th>6</th>\n",
       "      <td>project_gutenberg/56190-0.txt</td>\n",
       "      <td>Warren Commission</td>\n",
       "      <td>Warren Commission (14 of 26): Hearings Vol. XI...</td>\n",
       "      <td>1963</td>\n",
       "      <td>0.332608</td>\n",
       "      <td>0.195665</td>\n",
       "      <td>212.461619</td>\n",
       "      <td>0.382709</td>\n",
       "      <td>7.211034</td>\n",
       "      <td>37.233989</td>\n",
       "      <td>1.824845</td>\n",
       "      <td>1.806544</td>\n",
       "      <td>9.316746</td>\n",
       "      <td>0.981190</td>\n",
       "      <td>257.088583</td>\n",
       "      <td>0.685171</td>\n",
       "      <td>0.900294</td>\n",
       "      <td>0.686401</td>\n",
       "      <td>2.003238</td>\n",
       "    </tr>\n",
       "    <tr>\n",
       "      <th>7</th>\n",
       "      <td>project_gutenberg/9995.txt</td>\n",
       "      <td>Marian M. George</td>\n",
       "      <td>A Little Journey to Puerto Rico</td>\n",
       "      <td>2007</td>\n",
       "      <td>0.644000</td>\n",
       "      <td>0.471333</td>\n",
       "      <td>837.998946</td>\n",
       "      <td>0.409068</td>\n",
       "      <td>14.524590</td>\n",
       "      <td>80.180328</td>\n",
       "      <td>1.754010</td>\n",
       "      <td>2.718460</td>\n",
       "      <td>10.896416</td>\n",
       "      <td>0.998974</td>\n",
       "      <td>246.869565</td>\n",
       "      <td>0.723873</td>\n",
       "      <td>0.794841</td>\n",
       "      <td>0.726814</td>\n",
       "      <td>2.150615</td>\n",
       "    </tr>\n",
       "    <tr>\n",
       "      <th>8</th>\n",
       "      <td>project_gutenberg/51183-0.txt</td>\n",
       "      <td>George Grote</td>\n",
       "      <td>History of Greece, Volume 10 (of 12)</td>\n",
       "      <td>2018</td>\n",
       "      <td>0.678575</td>\n",
       "      <td>0.524642</td>\n",
       "      <td>180.798344</td>\n",
       "      <td>0.350970</td>\n",
       "      <td>15.716207</td>\n",
       "      <td>95.380218</td>\n",
       "      <td>2.143120</td>\n",
       "      <td>2.827180</td>\n",
       "      <td>12.209676</td>\n",
       "      <td>0.999341</td>\n",
       "      <td>245.503968</td>\n",
       "      <td>0.736571</td>\n",
       "      <td>0.807329</td>\n",
       "      <td>0.674299</td>\n",
       "      <td>2.284798</td>\n",
       "    </tr>\n",
       "    <tr>\n",
       "      <th>9</th>\n",
       "      <td>project_gutenberg/5619-0.txt</td>\n",
       "      <td>William Petty</td>\n",
       "      <td>Essays on Mankind and Political Arithmetic</td>\n",
       "      <td>1899</td>\n",
       "      <td>0.533643</td>\n",
       "      <td>0.367429</td>\n",
       "      <td>506.564690</td>\n",
       "      <td>0.407927</td>\n",
       "      <td>24.473765</td>\n",
       "      <td>136.352623</td>\n",
       "      <td>1.819653</td>\n",
       "      <td>4.456790</td>\n",
       "      <td>10.645643</td>\n",
       "      <td>0.998158</td>\n",
       "      <td>205.694444</td>\n",
       "      <td>0.707252</td>\n",
       "      <td>0.778920</td>\n",
       "      <td>0.696943</td>\n",
       "      <td>2.465841</td>\n",
       "    </tr>\n",
       "  </tbody>\n",
       "</table>\n",
       "</div>"
      ],
      "text/plain": [
       "                            file                 author  \\\n",
       "0     project_gutenberg/9999.txt      Sarah H. Bradford   \n",
       "1  project_gutenberg/56195-0.txt           Kenneth Ward   \n",
       "2    project_gutenberg/51187.txt            John Wilson   \n",
       "3    project_gutenberg/51185.txt      Daniel F. Galouye   \n",
       "4     project_gutenberg/9997.txt        Francis Parkman   \n",
       "5     project_gutenberg/9996.txt  Charles Francis Adams   \n",
       "6  project_gutenberg/56190-0.txt      Warren Commission   \n",
       "7     project_gutenberg/9995.txt       Marian M. George   \n",
       "8  project_gutenberg/51183-0.txt           George Grote   \n",
       "9   project_gutenberg/5619-0.txt          William Petty   \n",
       "\n",
       "                                               title  year      sttr  \\\n",
       "0                   Harriet, The Moses of Her People  1822  0.624214   \n",
       "1            The Boy Volunteers on the Belgian Front  1941  0.585125   \n",
       "2            A Visit to the Mammoth Cave of Kentucky  1972  0.620000   \n",
       "3                             All Jackson's Children  1970  0.627000   \n",
       "4    France and England in North America, Part Third  2013  0.686821   \n",
       "5                             'Tis Sixty Years Since  1814  0.689000   \n",
       "6  Warren Commission (14 of 26): Hearings Vol. XI...  1963  0.332608   \n",
       "7                    A Little Journey to Puerto Rico  2007  0.644000   \n",
       "8               History of Greece, Volume 10 (of 12)  2018  0.678575   \n",
       "9         Essays on Mankind and Political Arithmetic  1899  0.533643   \n",
       "\n",
       "   hapax_legomenon      yules_k  function_words  avg_sentence_length_word  \\\n",
       "0         0.452214   528.796852        0.398840                 20.889773   \n",
       "1         0.415000   378.878385        0.397120                 14.213115   \n",
       "2         0.444000  1298.919399        0.428477                 27.300300   \n",
       "3         0.486000  1703.701946        0.324357                  8.565289   \n",
       "4         0.541750   269.095482        0.372508                 21.562230   \n",
       "5         0.525429  1123.982792        0.412379                 22.716826   \n",
       "6         0.195665   212.461619        0.382709                  7.211034   \n",
       "7         0.471333   837.998946        0.409068                 14.524590   \n",
       "8         0.524642   180.798344        0.350970                 15.716207   \n",
       "9         0.367429   506.564690        0.407927                 24.473765   \n",
       "\n",
       "   avg_sentence_length_chars  avg_syllables_per_word  punctuation_sentence  \\\n",
       "0                 111.791794                1.735272              4.017759   \n",
       "1                  77.207650                1.752356              2.763206   \n",
       "2                 146.405405                1.720949              4.384384   \n",
       "3                  49.239669                1.794130              2.674380   \n",
       "4                 122.567266                1.868661              4.204856   \n",
       "5                 135.894665                2.360974              4.124487   \n",
       "6                  37.233989                1.824845              1.806544   \n",
       "7                  80.180328                1.754010              2.718460   \n",
       "8                  95.380218                2.143120              2.827180   \n",
       "9                 136.352623                1.819653              4.456790   \n",
       "\n",
       "   shannon_entropy  simpsons_d  average_nps  noun_to_verb  noun_to_adj  \\\n",
       "0        10.845536    0.998584   232.700000      0.640382     0.792910   \n",
       "1        10.506952    0.997945   232.130435      0.603311     0.811363   \n",
       "2        10.003001    0.998360   222.800000      0.656081     0.777569   \n",
       "3         9.511655    0.996898   221.166667      0.586852     0.823569   \n",
       "4        11.781284    0.998751   241.057143      0.716877     0.837261   \n",
       "5        10.880695    0.999149   214.000000      0.671823     0.718001   \n",
       "6         9.316746    0.981190   257.088583      0.685171     0.900294   \n",
       "7        10.896416    0.998974   246.869565      0.723873     0.794841   \n",
       "8        12.209676    0.999341   245.503968      0.736571     0.807329   \n",
       "9        10.645643    0.998158   205.694444      0.707252     0.778920   \n",
       "\n",
       "   verb_to_adv  avg_dependency_distance  \n",
       "0     0.717273                 2.338342  \n",
       "1     0.718462                 2.134627  \n",
       "2     0.638938                 2.403897  \n",
       "3     0.692679                 2.098842  \n",
       "4     0.751203                 2.331626  \n",
       "5     0.598605                 2.411298  \n",
       "6     0.686401                 2.003238  \n",
       "7     0.726814                 2.150615  \n",
       "8     0.674299                 2.284798  \n",
       "9     0.696943                 2.465841  "
      ]
     },
     "execution_count": 5,
     "metadata": {},
     "output_type": "execute_result"
    }
   ],
   "source": [
    "df.head(10)"
   ]
  },
  {
   "cell_type": "code",
   "execution_count": 6,
   "metadata": {},
   "outputs": [
    {
     "data": {
      "text/plain": [
       "file                            0\n",
       "author                          0\n",
       "title                           0\n",
       "year                            0\n",
       "sttr                         8016\n",
       "hapax_legomenon              8016\n",
       "yules_k                      7731\n",
       "function_words               7731\n",
       "avg_sentence_length_word     7731\n",
       "avg_sentence_length_chars    7731\n",
       "avg_syllables_per_word       7731\n",
       "punctuation_sentence         7731\n",
       "shannon_entropy              7731\n",
       "simpsons_d                   7731\n",
       "average_nps                  7820\n",
       "noun_to_verb                 7731\n",
       "noun_to_adj                  7731\n",
       "verb_to_adv                  7731\n",
       "avg_dependency_distance      7731\n",
       "dtype: int64"
      ]
     },
     "execution_count": 6,
     "metadata": {},
     "output_type": "execute_result"
    }
   ],
   "source": [
    "df.isnull().sum()"
   ]
  },
  {
   "cell_type": "code",
   "execution_count": null,
   "metadata": {},
   "outputs": [],
   "source": []
  },
  {
   "cell_type": "code",
   "execution_count": null,
   "metadata": {},
   "outputs": [],
   "source": []
  },
  {
   "cell_type": "code",
   "execution_count": null,
   "metadata": {},
   "outputs": [],
   "source": [
    "df.to_csv('metrics.csv', index=False)"
   ]
  }
 ],
 "metadata": {
  "kernelspec": {
   "display_name": "Python 3",
   "language": "python",
   "name": "python3"
  },
  "language_info": {
   "codemirror_mode": {
    "name": "ipython",
    "version": 3
   },
   "file_extension": ".py",
   "mimetype": "text/x-python",
   "name": "python",
   "nbconvert_exporter": "python",
   "pygments_lexer": "ipython3",
   "version": "3.7.5"
  }
 },
 "nbformat": 4,
 "nbformat_minor": 2
}
