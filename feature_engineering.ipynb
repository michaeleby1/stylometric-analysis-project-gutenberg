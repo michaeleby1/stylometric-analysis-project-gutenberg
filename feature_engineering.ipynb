{
 "cells": [
  {
   "cell_type": "code",
   "execution_count": 1,
   "metadata": {},
   "outputs": [],
   "source": [
    "from stylometry import *\n",
    "import pymongo\n",
    "import time\n",
    "import multiprocessing as mp\n",
    "import pandas as pd\n",
    "from pandas.io.json import json_normalize\n",
    "import warnings\n",
    "warnings.filterwarnings('ignore')\n",
    "\n",
    "import spacy\n",
    "#import en_core_web_lg\n",
    "import en_core_web_md"
   ]
  },
  {
   "cell_type": "code",
   "execution_count": null,
   "metadata": {},
   "outputs": [],
   "source": [
    "## connect the database to my virtual machine\n",
    "client = pymongo.MongoClient('mongodb://localhost/')\n",
    "db = client['gutenberg_db']\n",
    "collection = db['gutenberg_collection']"
   ]
  },
  {
   "cell_type": "code",
   "execution_count": 3,
   "metadata": {},
   "outputs": [
    {
     "data": {
      "text/plain": [
       "Collection(Database(MongoClient(host=['localhost:27017'], document_class=dict, tz_aware=False, connect=True), 'gutenberg_db'), 'gutenberg_collection')"
      ]
     },
     "execution_count": 3,
     "metadata": {},
     "output_type": "execute_result"
    }
   ],
   "source": [
    "collection"
   ]
  },
  {
   "cell_type": "code",
   "execution_count": 5,
   "metadata": {},
   "outputs": [],
   "source": [
    "text = collection.find({'file': 'project_gutenberg/51185.txt'}, {'text': 1})[0]['text']"
   ]
  },
  {
   "cell_type": "code",
   "execution_count": 6,
   "metadata": {},
   "outputs": [
    {
     "name": "stdout",
     "output_type": "stream",
     "text": [
      "Took 1.6460483074188232s to process\n"
     ]
    }
   ],
   "source": [
    "s = time.time()\n",
    "doc = nlp(text)\n",
    "tokens = [token.orth_.lower() for token in doc if not token.is_punct and token if not token.is_stop]\n",
    "sentences = [sent.string.strip() for sent in doc.sents]\n",
    "print(f'Took {time.time() - s}s to process')"
   ]
  },
  {
   "cell_type": "code",
   "execution_count": 7,
   "metadata": {},
   "outputs": [
    {
     "data": {
      "text/plain": [
       "0.627"
      ]
     },
     "execution_count": 7,
     "metadata": {},
     "output_type": "execute_result"
    }
   ],
   "source": [
    "sttr(tokens)"
   ]
  },
  {
   "cell_type": "code",
   "execution_count": 8,
   "metadata": {},
   "outputs": [
    {
     "data": {
      "text/plain": [
       "0.486"
      ]
     },
     "execution_count": 8,
     "metadata": {},
     "output_type": "execute_result"
    }
   ],
   "source": [
    "hapax_legomenon(tokens)"
   ]
  },
  {
   "cell_type": "code",
   "execution_count": 9,
   "metadata": {},
   "outputs": [
    {
     "data": {
      "text/plain": [
       "1703.7019456860444"
      ]
     },
     "execution_count": 9,
     "metadata": {},
     "output_type": "execute_result"
    }
   ],
   "source": [
    "yules_k(tokens)"
   ]
  },
  {
   "cell_type": "code",
   "execution_count": 10,
   "metadata": {},
   "outputs": [
    {
     "data": {
      "text/plain": [
       "0.32435685271551074"
      ]
     },
     "execution_count": 10,
     "metadata": {},
     "output_type": "execute_result"
    }
   ],
   "source": [
    "function_words(doc)"
   ]
  },
  {
   "cell_type": "code",
   "execution_count": 11,
   "metadata": {},
   "outputs": [
    {
     "data": {
      "text/plain": [
       "8.565289256198348"
      ]
     },
     "execution_count": 11,
     "metadata": {},
     "output_type": "execute_result"
    }
   ],
   "source": [
    "avg_sentence_length_word(sentences)"
   ]
  },
  {
   "cell_type": "code",
   "execution_count": 12,
   "metadata": {},
   "outputs": [
    {
     "data": {
      "text/plain": [
       "49.239669421487605"
      ]
     },
     "execution_count": 12,
     "metadata": {},
     "output_type": "execute_result"
    }
   ],
   "source": [
    "avg_sentence_length_chars(sentences)"
   ]
  },
  {
   "cell_type": "code",
   "execution_count": 13,
   "metadata": {},
   "outputs": [
    {
     "data": {
      "text/plain": [
       "1.7941299790356393"
      ]
     },
     "execution_count": 13,
     "metadata": {},
     "output_type": "execute_result"
    }
   ],
   "source": [
    "avg_syllables_per_word(tokens)"
   ]
  },
  {
   "cell_type": "code",
   "execution_count": 14,
   "metadata": {},
   "outputs": [
    {
     "data": {
      "text/plain": [
       "2.6743801652892563"
      ]
     },
     "execution_count": 14,
     "metadata": {},
     "output_type": "execute_result"
    }
   ],
   "source": [
    "punctuation_sentence(sentences)"
   ]
  },
  {
   "cell_type": "code",
   "execution_count": 15,
   "metadata": {},
   "outputs": [
    {
     "data": {
      "text/plain": [
       "9.51165465635602"
      ]
     },
     "execution_count": 15,
     "metadata": {},
     "output_type": "execute_result"
    }
   ],
   "source": [
    "shannon_entropy(tokens)"
   ]
  },
  {
   "cell_type": "code",
   "execution_count": 16,
   "metadata": {},
   "outputs": [
    {
     "data": {
      "text/plain": [
       "0.9968982595359701"
      ]
     },
     "execution_count": 16,
     "metadata": {},
     "output_type": "execute_result"
    }
   ],
   "source": [
    "simpsons_d(tokens)"
   ]
  },
  {
   "cell_type": "code",
   "execution_count": 17,
   "metadata": {},
   "outputs": [
    {
     "data": {
      "text/plain": [
       "221.16666666666666"
      ]
     },
     "execution_count": 17,
     "metadata": {},
     "output_type": "execute_result"
    }
   ],
   "source": [
    "average_nps(doc)"
   ]
  },
  {
   "cell_type": "code",
   "execution_count": 18,
   "metadata": {},
   "outputs": [
    {
     "data": {
      "text/plain": [
       "0.586852207293666"
      ]
     },
     "execution_count": 18,
     "metadata": {},
     "output_type": "execute_result"
    }
   ],
   "source": [
    "noun_to_verb(doc)"
   ]
  },
  {
   "cell_type": "code",
   "execution_count": 19,
   "metadata": {},
   "outputs": [
    {
     "data": {
      "text/plain": [
       "0.8235690235690236"
      ]
     },
     "execution_count": 19,
     "metadata": {},
     "output_type": "execute_result"
    }
   ],
   "source": [
    "noun_to_adj(doc)"
   ]
  },
  {
   "cell_type": "code",
   "execution_count": 20,
   "metadata": {},
   "outputs": [
    {
     "data": {
      "text/plain": [
       "0.6926790024135157"
      ]
     },
     "execution_count": 20,
     "metadata": {},
     "output_type": "execute_result"
    }
   ],
   "source": [
    "verb_to_adv(doc)"
   ]
  },
  {
   "cell_type": "code",
   "execution_count": 21,
   "metadata": {},
   "outputs": [
    {
     "data": {
      "text/plain": [
       "2.0988422371735185"
      ]
     },
     "execution_count": 21,
     "metadata": {},
     "output_type": "execute_result"
    }
   ],
   "source": [
    "avg_dependency_distance(doc)"
   ]
  },
  {
   "cell_type": "code",
   "execution_count": 22,
   "metadata": {},
   "outputs": [
    {
     "name": "stdout",
     "output_type": "stream",
     "text": [
      "Took 0.8566100597381592s to process project_gutenberg/51185.txt\n"
     ]
    }
   ],
   "source": [
    "get_style_metrics('project_gutenberg/51185.txt')"
   ]
  },
  {
   "cell_type": "markdown",
   "metadata": {},
   "source": [
    "### Mongo Upload"
   ]
  },
  {
   "cell_type": "code",
   "execution_count": 32,
   "metadata": {},
   "outputs": [
    {
     "name": "stdout",
     "output_type": "stream",
     "text": [
      "23294\n"
     ]
    }
   ],
   "source": [
    "filelist = [doc['file'] for doc in collection.find({}, {'file': 1})]\n",
    "print(len(filelist))"
   ]
  },
  {
   "cell_type": "code",
   "execution_count": 10,
   "metadata": {
    "scrolled": true
   },
   "outputs": [],
   "source": [
    "## parallelizing get_style_metrics function\n",
    "n_cpu = mp.cpu_count()\n",
    "with mp.Pool(processes = n_cpu) as p:\n",
    "    p.map(get_style_metrics, filelist)"
   ]
  },
  {
   "cell_type": "code",
   "execution_count": 11,
   "metadata": {},
   "outputs": [
    {
     "name": "stdout",
     "output_type": "stream",
     "text": [
      "(23294, 19)\n"
     ]
    },
    {
     "data": {
      "text/html": [
       "<div>\n",
       "<style scoped>\n",
       "    .dataframe tbody tr th:only-of-type {\n",
       "        vertical-align: middle;\n",
       "    }\n",
       "\n",
       "    .dataframe tbody tr th {\n",
       "        vertical-align: top;\n",
       "    }\n",
       "\n",
       "    .dataframe thead th {\n",
       "        text-align: right;\n",
       "    }\n",
       "</style>\n",
       "<table border=\"1\" class=\"dataframe\">\n",
       "  <thead>\n",
       "    <tr style=\"text-align: right;\">\n",
       "      <th></th>\n",
       "      <th>file</th>\n",
       "      <th>author</th>\n",
       "      <th>title</th>\n",
       "      <th>year</th>\n",
       "      <th>sttr</th>\n",
       "      <th>hapax_legomenon</th>\n",
       "      <th>yules_k</th>\n",
       "      <th>function_words</th>\n",
       "      <th>avg_sentence_length_word</th>\n",
       "      <th>avg_sentence_length_chars</th>\n",
       "      <th>avg_syllables_per_word</th>\n",
       "      <th>punctuation_sentence</th>\n",
       "      <th>shannon_entropy</th>\n",
       "      <th>simpsons_d</th>\n",
       "      <th>average_nps</th>\n",
       "      <th>noun_to_verb</th>\n",
       "      <th>noun_to_adj</th>\n",
       "      <th>verb_to_adv</th>\n",
       "      <th>avg_dependency_distance</th>\n",
       "    </tr>\n",
       "  </thead>\n",
       "  <tbody>\n",
       "    <tr>\n",
       "      <th>0</th>\n",
       "      <td>project_gutenberg/9999.txt</td>\n",
       "      <td>Sarah H. Bradford</td>\n",
       "      <td>Harriet, The Moses of Her People</td>\n",
       "      <td>1822</td>\n",
       "      <td>0.624214</td>\n",
       "      <td>0.452214</td>\n",
       "      <td>528.796852</td>\n",
       "      <td>0.398840</td>\n",
       "      <td>20.889773</td>\n",
       "      <td>111.791794</td>\n",
       "      <td>1.735272</td>\n",
       "      <td>4.017759</td>\n",
       "      <td>10.845536</td>\n",
       "      <td>0.998584</td>\n",
       "      <td>232.700000</td>\n",
       "      <td>0.640382</td>\n",
       "      <td>0.792910</td>\n",
       "      <td>0.717273</td>\n",
       "      <td>2.338342</td>\n",
       "    </tr>\n",
       "    <tr>\n",
       "      <th>1</th>\n",
       "      <td>project_gutenberg/56195-0.txt</td>\n",
       "      <td>Kenneth Ward</td>\n",
       "      <td>The Boy Volunteers on the Belgian Front</td>\n",
       "      <td>1941</td>\n",
       "      <td>0.585125</td>\n",
       "      <td>0.415000</td>\n",
       "      <td>378.878385</td>\n",
       "      <td>0.397120</td>\n",
       "      <td>14.213115</td>\n",
       "      <td>77.207650</td>\n",
       "      <td>1.752356</td>\n",
       "      <td>2.763206</td>\n",
       "      <td>10.506952</td>\n",
       "      <td>0.997945</td>\n",
       "      <td>232.130435</td>\n",
       "      <td>0.603311</td>\n",
       "      <td>0.811363</td>\n",
       "      <td>0.718462</td>\n",
       "      <td>2.134627</td>\n",
       "    </tr>\n",
       "    <tr>\n",
       "      <th>2</th>\n",
       "      <td>project_gutenberg/51187.txt</td>\n",
       "      <td>John Wilson</td>\n",
       "      <td>A Visit to the Mammoth Cave of Kentucky</td>\n",
       "      <td>1972</td>\n",
       "      <td>0.620000</td>\n",
       "      <td>0.444000</td>\n",
       "      <td>1298.919399</td>\n",
       "      <td>0.428477</td>\n",
       "      <td>27.300300</td>\n",
       "      <td>146.405405</td>\n",
       "      <td>1.720949</td>\n",
       "      <td>4.384384</td>\n",
       "      <td>10.003001</td>\n",
       "      <td>0.998360</td>\n",
       "      <td>222.800000</td>\n",
       "      <td>0.656081</td>\n",
       "      <td>0.777569</td>\n",
       "      <td>0.638938</td>\n",
       "      <td>2.403897</td>\n",
       "    </tr>\n",
       "    <tr>\n",
       "      <th>3</th>\n",
       "      <td>project_gutenberg/51185.txt</td>\n",
       "      <td>Daniel F. Galouye</td>\n",
       "      <td>All Jackson's Children</td>\n",
       "      <td>1970</td>\n",
       "      <td>0.627000</td>\n",
       "      <td>0.486000</td>\n",
       "      <td>1703.701946</td>\n",
       "      <td>0.324357</td>\n",
       "      <td>8.565289</td>\n",
       "      <td>49.239669</td>\n",
       "      <td>1.794130</td>\n",
       "      <td>2.674380</td>\n",
       "      <td>9.511655</td>\n",
       "      <td>0.996898</td>\n",
       "      <td>221.166667</td>\n",
       "      <td>0.586852</td>\n",
       "      <td>0.823569</td>\n",
       "      <td>0.692679</td>\n",
       "      <td>2.098842</td>\n",
       "    </tr>\n",
       "    <tr>\n",
       "      <th>4</th>\n",
       "      <td>project_gutenberg/9997.txt</td>\n",
       "      <td>Francis Parkman</td>\n",
       "      <td>France and England in North America, Part Third</td>\n",
       "      <td>2013</td>\n",
       "      <td>0.686821</td>\n",
       "      <td>0.541750</td>\n",
       "      <td>269.095482</td>\n",
       "      <td>0.372508</td>\n",
       "      <td>21.562230</td>\n",
       "      <td>122.567266</td>\n",
       "      <td>1.868661</td>\n",
       "      <td>4.204856</td>\n",
       "      <td>11.781284</td>\n",
       "      <td>0.998751</td>\n",
       "      <td>241.057143</td>\n",
       "      <td>0.716877</td>\n",
       "      <td>0.837261</td>\n",
       "      <td>0.751203</td>\n",
       "      <td>2.331626</td>\n",
       "    </tr>\n",
       "  </tbody>\n",
       "</table>\n",
       "</div>"
      ],
      "text/plain": [
       "                            file             author  \\\n",
       "0     project_gutenberg/9999.txt  Sarah H. Bradford   \n",
       "1  project_gutenberg/56195-0.txt       Kenneth Ward   \n",
       "2    project_gutenberg/51187.txt        John Wilson   \n",
       "3    project_gutenberg/51185.txt  Daniel F. Galouye   \n",
       "4     project_gutenberg/9997.txt    Francis Parkman   \n",
       "\n",
       "                                             title  year      sttr  \\\n",
       "0                 Harriet, The Moses of Her People  1822  0.624214   \n",
       "1          The Boy Volunteers on the Belgian Front  1941  0.585125   \n",
       "2          A Visit to the Mammoth Cave of Kentucky  1972  0.620000   \n",
       "3                           All Jackson's Children  1970  0.627000   \n",
       "4  France and England in North America, Part Third  2013  0.686821   \n",
       "\n",
       "   hapax_legomenon      yules_k  function_words  avg_sentence_length_word  \\\n",
       "0         0.452214   528.796852        0.398840                 20.889773   \n",
       "1         0.415000   378.878385        0.397120                 14.213115   \n",
       "2         0.444000  1298.919399        0.428477                 27.300300   \n",
       "3         0.486000  1703.701946        0.324357                  8.565289   \n",
       "4         0.541750   269.095482        0.372508                 21.562230   \n",
       "\n",
       "   avg_sentence_length_chars  avg_syllables_per_word  punctuation_sentence  \\\n",
       "0                 111.791794                1.735272              4.017759   \n",
       "1                  77.207650                1.752356              2.763206   \n",
       "2                 146.405405                1.720949              4.384384   \n",
       "3                  49.239669                1.794130              2.674380   \n",
       "4                 122.567266                1.868661              4.204856   \n",
       "\n",
       "   shannon_entropy  simpsons_d  average_nps  noun_to_verb  noun_to_adj  \\\n",
       "0        10.845536    0.998584   232.700000      0.640382     0.792910   \n",
       "1        10.506952    0.997945   232.130435      0.603311     0.811363   \n",
       "2        10.003001    0.998360   222.800000      0.656081     0.777569   \n",
       "3         9.511655    0.996898   221.166667      0.586852     0.823569   \n",
       "4        11.781284    0.998751   241.057143      0.716877     0.837261   \n",
       "\n",
       "   verb_to_adv  avg_dependency_distance  \n",
       "0     0.717273                 2.338342  \n",
       "1     0.718462                 2.134627  \n",
       "2     0.638938                 2.403897  \n",
       "3     0.692679                 2.098842  \n",
       "4     0.751203                 2.331626  "
      ]
     },
     "execution_count": 11,
     "metadata": {},
     "output_type": "execute_result"
    }
   ],
   "source": [
    "datapoints = list(collection.find({}, {'_id': 0, 'text': 0}))\n",
    "df = pd.DataFrame(json_normalize(datapoints))\n",
    "df.rename(columns = {'metrics.sttr': 'sttr', 'metrics.hapax_legomenon': 'hapax_legomenon', \n",
    "                          'metrics.yules_k': 'yules_k', 'metrics.function_words': 'function_words', \n",
    "                          'metrics.avg_sentence_length_word': 'avg_sentence_length_word',\n",
    "                          'metrics.avg_sentence_length_chars': 'avg_sentence_length_chars', \n",
    "                          'metrics.avg_syllables_per_word': 'avg_syllables_per_word', \n",
    "                          'metrics.punctuation_sentence': 'punctuation_sentence', \n",
    "                          'metrics.shannon_entropy': 'shannon_entropy',\n",
    "                          'metrics.simpsons_d': 'simpsons_d', 'metrics.average_nps': 'average_nps', \n",
    "                          'metrics.noun_to_verb': 'noun_to_verb', 'metrics.noun_to_adj': 'noun_to_adj', \n",
    "                          'metrics.verb_to_adv': 'verb_to_adv', \n",
    "                          'metrics.avg_dependency_distance': 'avg_dependency_distance'}, inplace=True)\n",
    "# df.dropna(inplace=True)\n",
    "print(df.shape)\n",
    "df.head(5)"
   ]
  },
  {
   "cell_type": "code",
   "execution_count": 12,
   "metadata": {},
   "outputs": [
    {
     "data": {
      "text/plain": [
       "file                           0\n",
       "author                         0\n",
       "title                          0\n",
       "year                           0\n",
       "sttr                         490\n",
       "hapax_legomenon              490\n",
       "yules_k                        7\n",
       "function_words                 7\n",
       "avg_sentence_length_word       7\n",
       "avg_sentence_length_chars      7\n",
       "avg_syllables_per_word         7\n",
       "punctuation_sentence           7\n",
       "shannon_entropy                7\n",
       "simpsons_d                     7\n",
       "average_nps                  185\n",
       "noun_to_verb                   7\n",
       "noun_to_adj                    7\n",
       "verb_to_adv                    7\n",
       "avg_dependency_distance        7\n",
       "dtype: int64"
      ]
     },
     "execution_count": 12,
     "metadata": {},
     "output_type": "execute_result"
    }
   ],
   "source": [
    "df.isnull().sum()"
   ]
  },
  {
   "cell_type": "code",
   "execution_count": 15,
   "metadata": {},
   "outputs": [
    {
     "name": "stdout",
     "output_type": "stream",
     "text": [
      "(22481, 19)\n"
     ]
    }
   ],
   "source": [
    "df.dropna(inplace=True)\n",
    "df['year'] = df['year'].astype('int')\n",
    "df = df[(df['year'] <= 2020) & (df['year'] >= 1050)]\n",
    "print(df.shape)"
   ]
  },
  {
   "cell_type": "code",
   "execution_count": 18,
   "metadata": {},
   "outputs": [],
   "source": [
    "df.to_csv('metrics.csv', index=False)"
   ]
  },
  {
   "cell_type": "code",
   "execution_count": null,
   "metadata": {},
   "outputs": [],
   "source": []
  }
 ],
 "metadata": {
  "kernelspec": {
   "display_name": "Python 3",
   "language": "python",
   "name": "python3"
  },
  "language_info": {
   "codemirror_mode": {
    "name": "ipython",
    "version": 3
   },
   "file_extension": ".py",
   "mimetype": "text/x-python",
   "name": "python",
   "nbconvert_exporter": "python",
   "pygments_lexer": "ipython3",
   "version": "3.7.5"
  }
 },
 "nbformat": 4,
 "nbformat_minor": 2
}
