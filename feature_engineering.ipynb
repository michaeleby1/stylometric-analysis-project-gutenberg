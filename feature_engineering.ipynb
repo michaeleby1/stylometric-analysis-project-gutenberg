{
 "cells": [
  {
   "cell_type": "code",
   "execution_count": 1,
   "metadata": {},
   "outputs": [],
   "source": [
    "from stylometry import *\n",
    "import pymongo\n",
    "import time\n",
    "import multiprocessing as mp\n",
    "import pandas as pd\n",
    "from pandas.io.json import json_normalize\n",
    "import warnings\n",
    "warnings.filterwarnings('ignore')\n",
    "\n",
    "import spacy\n",
    "#import en_core_web_lg\n",
    "import en_core_web_md"
   ]
  },
  {
   "cell_type": "code",
   "execution_count": 2,
   "metadata": {},
   "outputs": [],
   "source": [
    "## connect the database to my virtual machine\n",
    "client = pymongo.MongoClient('mongodb://localhost/')\n",
    "db = client['gutenberg_db']\n",
    "collection = db['gutenberg_collection']"
   ]
  },
  {
   "cell_type": "code",
   "execution_count": 3,
   "metadata": {},
   "outputs": [
    {
     "data": {
      "text/plain": [
       "Collection(Database(MongoClient(host=['localhost:27017'], document_class=dict, tz_aware=False, connect=True), 'gutenberg_db'), 'gutenberg_collection')"
      ]
     },
     "execution_count": 3,
     "metadata": {},
     "output_type": "execute_result"
    }
   ],
   "source": [
    "collection"
   ]
  },
  {
   "cell_type": "code",
   "execution_count": 5,
   "metadata": {},
   "outputs": [],
   "source": [
    "text = collection.find({'file': 'project_gutenberg/51185.txt'}, {'text': 1})[0]['text']"
   ]
  },
  {
   "cell_type": "code",
   "execution_count": 6,
   "metadata": {},
   "outputs": [
    {
     "name": "stdout",
     "output_type": "stream",
     "text": [
      "Took 1.6460483074188232s to process\n"
     ]
    }
   ],
   "source": [
    "s = time.time()\n",
    "doc = nlp(text)\n",
    "tokens = [token.orth_.lower() for token in doc if not token.is_punct and token if not token.is_stop]\n",
    "sentences = [sent.string.strip() for sent in doc.sents]\n",
    "print(f'Took {time.time() - s}s to process')"
   ]
  },
  {
   "cell_type": "code",
   "execution_count": 7,
   "metadata": {},
   "outputs": [
    {
     "data": {
      "text/plain": [
       "0.627"
      ]
     },
     "execution_count": 7,
     "metadata": {},
     "output_type": "execute_result"
    }
   ],
   "source": [
    "sttr(tokens)"
   ]
  },
  {
   "cell_type": "code",
   "execution_count": 8,
   "metadata": {},
   "outputs": [
    {
     "data": {
      "text/plain": [
       "0.486"
      ]
     },
     "execution_count": 8,
     "metadata": {},
     "output_type": "execute_result"
    }
   ],
   "source": [
    "hapax_legomenon(tokens)"
   ]
  },
  {
   "cell_type": "code",
   "execution_count": 9,
   "metadata": {},
   "outputs": [
    {
     "data": {
      "text/plain": [
       "1703.7019456860444"
      ]
     },
     "execution_count": 9,
     "metadata": {},
     "output_type": "execute_result"
    }
   ],
   "source": [
    "yules_k(tokens)"
   ]
  },
  {
   "cell_type": "code",
   "execution_count": 10,
   "metadata": {},
   "outputs": [
    {
     "data": {
      "text/plain": [
       "0.32435685271551074"
      ]
     },
     "execution_count": 10,
     "metadata": {},
     "output_type": "execute_result"
    }
   ],
   "source": [
    "function_words(doc)"
   ]
  },
  {
   "cell_type": "code",
   "execution_count": 11,
   "metadata": {},
   "outputs": [
    {
     "data": {
      "text/plain": [
       "8.565289256198348"
      ]
     },
     "execution_count": 11,
     "metadata": {},
     "output_type": "execute_result"
    }
   ],
   "source": [
    "avg_sentence_length_word(sentences)"
   ]
  },
  {
   "cell_type": "code",
   "execution_count": 12,
   "metadata": {},
   "outputs": [
    {
     "data": {
      "text/plain": [
       "49.239669421487605"
      ]
     },
     "execution_count": 12,
     "metadata": {},
     "output_type": "execute_result"
    }
   ],
   "source": [
    "avg_sentence_length_chars(sentences)"
   ]
  },
  {
   "cell_type": "code",
   "execution_count": 13,
   "metadata": {},
   "outputs": [
    {
     "data": {
      "text/plain": [
       "1.7941299790356393"
      ]
     },
     "execution_count": 13,
     "metadata": {},
     "output_type": "execute_result"
    }
   ],
   "source": [
    "avg_syllables_per_word(tokens)"
   ]
  },
  {
   "cell_type": "code",
   "execution_count": 14,
   "metadata": {},
   "outputs": [
    {
     "data": {
      "text/plain": [
       "2.6743801652892563"
      ]
     },
     "execution_count": 14,
     "metadata": {},
     "output_type": "execute_result"
    }
   ],
   "source": [
    "punctuation_sentence(sentences)"
   ]
  },
  {
   "cell_type": "code",
   "execution_count": 15,
   "metadata": {},
   "outputs": [
    {
     "data": {
      "text/plain": [
       "9.51165465635602"
      ]
     },
     "execution_count": 15,
     "metadata": {},
     "output_type": "execute_result"
    }
   ],
   "source": [
    "shannon_entropy(tokens)"
   ]
  },
  {
   "cell_type": "code",
   "execution_count": 16,
   "metadata": {},
   "outputs": [
    {
     "data": {
      "text/plain": [
       "0.9968982595359701"
      ]
     },
     "execution_count": 16,
     "metadata": {},
     "output_type": "execute_result"
    }
   ],
   "source": [
    "simpsons_d(tokens)"
   ]
  },
  {
   "cell_type": "code",
   "execution_count": 17,
   "metadata": {},
   "outputs": [
    {
     "data": {
      "text/plain": [
       "221.16666666666666"
      ]
     },
     "execution_count": 17,
     "metadata": {},
     "output_type": "execute_result"
    }
   ],
   "source": [
    "average_nps(doc)"
   ]
  },
  {
   "cell_type": "code",
   "execution_count": 18,
   "metadata": {},
   "outputs": [
    {
     "data": {
      "text/plain": [
       "0.586852207293666"
      ]
     },
     "execution_count": 18,
     "metadata": {},
     "output_type": "execute_result"
    }
   ],
   "source": [
    "noun_to_verb(doc)"
   ]
  },
  {
   "cell_type": "code",
   "execution_count": 19,
   "metadata": {},
   "outputs": [
    {
     "data": {
      "text/plain": [
       "0.8235690235690236"
      ]
     },
     "execution_count": 19,
     "metadata": {},
     "output_type": "execute_result"
    }
   ],
   "source": [
    "noun_to_adj(doc)"
   ]
  },
  {
   "cell_type": "code",
   "execution_count": 20,
   "metadata": {},
   "outputs": [
    {
     "data": {
      "text/plain": [
       "0.6926790024135157"
      ]
     },
     "execution_count": 20,
     "metadata": {},
     "output_type": "execute_result"
    }
   ],
   "source": [
    "verb_to_adv(doc)"
   ]
  },
  {
   "cell_type": "code",
   "execution_count": 21,
   "metadata": {},
   "outputs": [
    {
     "data": {
      "text/plain": [
       "2.0988422371735185"
      ]
     },
     "execution_count": 21,
     "metadata": {},
     "output_type": "execute_result"
    }
   ],
   "source": [
    "avg_dependency_distance(doc)"
   ]
  },
  {
   "cell_type": "code",
   "execution_count": 22,
   "metadata": {},
   "outputs": [
    {
     "name": "stdout",
     "output_type": "stream",
     "text": [
      "Took 0.8566100597381592s to process project_gutenberg/51185.txt\n"
     ]
    }
   ],
   "source": [
    "get_style_metrics('project_gutenberg/51185.txt')"
   ]
  },
  {
   "cell_type": "markdown",
   "metadata": {},
   "source": [
    "### Mongo Upload"
   ]
  },
  {
   "cell_type": "code",
   "execution_count": 32,
   "metadata": {},
   "outputs": [
    {
     "name": "stdout",
     "output_type": "stream",
     "text": [
      "23294\n"
     ]
    }
   ],
   "source": [
    "filelist = [doc['file'] for doc in collection.find({}, {'file': 1})]\n",
    "print(len(filelist))"
   ]
  },
  {
   "cell_type": "code",
   "execution_count": 22,
   "metadata": {},
   "outputs": [
    {
     "name": "stdout",
     "output_type": "stream",
     "text": [
      "6005\n"
     ]
    }
   ],
   "source": [
    "filelist = list(df[df['yules_k'].isnull()].file.values)\n",
    "print(len(filelist))"
   ]
  },
  {
   "cell_type": "code",
   "execution_count": null,
   "metadata": {
    "scrolled": true
   },
   "outputs": [],
   "source": [
    "for file in filelist:\n",
    "    try:\n",
    "        get_style_metrics(file)\n",
    "    except (ZeroDivisionError, ValueError): \n",
    "        continue"
   ]
  },
  {
   "cell_type": "code",
   "execution_count": 27,
   "metadata": {
    "scrolled": true
   },
   "outputs": [],
   "source": [
    "## parallelizing get_style_metrics function\n",
    "n_cpu = mp.cpu_count()\n",
    "with mp.Pool(processes = n_cpu) as p:\n",
    "    p.map(get_style_metrics, filelist)"
   ]
  },
  {
   "cell_type": "code",
   "execution_count": 16,
   "metadata": {},
   "outputs": [
    {
     "name": "stdout",
     "output_type": "stream",
     "text": [
      "(23294, 19)\n"
     ]
    }
   ],
   "source": [
    "datapoints = list(collection.find({}, {'_id': 0, 'text': 0}))\n",
    "df = pd.DataFrame(json_normalize(datapoints))\n",
    "df = df.rename(columns = {'metrics.sttr': 'sttr', 'metrics.hapax_legomenon': 'hapax_legomenon', \n",
    "                          'metrics.yules_k': 'yules_k', 'metrics.function_words': 'function_words', \n",
    "                          'metrics.avg_sentence_length_word': 'avg_sentence_length_word',\n",
    "                          'metrics.avg_sentence_length_chars': 'avg_sentence_length_chars', \n",
    "                          'metrics.avg_syllables_per_word': 'avg_syllables_per_word', \n",
    "                          'metrics.punctuation_sentence': 'punctuation_sentence', \n",
    "                          'metrics.shannon_entropy': 'shannon_entropy',\n",
    "                          'metrics.simpsons_d': 'simpsons_d', 'metrics.average_nps': 'average_nps', \n",
    "                          'metrics.noun_to_verb': 'noun_to_verb', 'metrics.noun_to_adj': 'noun_to_adj', \n",
    "                          'metrics.verb_to_adv': 'verb_to_adv', \n",
    "                          'metrics.avg_dependency_distance': 'avg_dependency_distance'})\n",
    "df.head()\n",
    "print(df.shape)"
   ]
  },
  {
   "cell_type": "code",
   "execution_count": 17,
   "metadata": {},
   "outputs": [
    {
     "data": {
      "text/html": [
       "<div>\n",
       "<style scoped>\n",
       "    .dataframe tbody tr th:only-of-type {\n",
       "        vertical-align: middle;\n",
       "    }\n",
       "\n",
       "    .dataframe tbody tr th {\n",
       "        vertical-align: top;\n",
       "    }\n",
       "\n",
       "    .dataframe thead th {\n",
       "        text-align: right;\n",
       "    }\n",
       "</style>\n",
       "<table border=\"1\" class=\"dataframe\">\n",
       "  <thead>\n",
       "    <tr style=\"text-align: right;\">\n",
       "      <th></th>\n",
       "      <th>file</th>\n",
       "      <th>author</th>\n",
       "      <th>title</th>\n",
       "      <th>year</th>\n",
       "      <th>sttr</th>\n",
       "      <th>hapax_legomenon</th>\n",
       "      <th>yules_k</th>\n",
       "      <th>function_words</th>\n",
       "      <th>avg_sentence_length_word</th>\n",
       "      <th>avg_sentence_length_chars</th>\n",
       "      <th>avg_syllables_per_word</th>\n",
       "      <th>punctuation_sentence</th>\n",
       "      <th>shannon_entropy</th>\n",
       "      <th>simpsons_d</th>\n",
       "      <th>average_nps</th>\n",
       "      <th>noun_to_verb</th>\n",
       "      <th>noun_to_adj</th>\n",
       "      <th>verb_to_adv</th>\n",
       "      <th>avg_dependency_distance</th>\n",
       "    </tr>\n",
       "  </thead>\n",
       "  <tbody>\n",
       "    <tr>\n",
       "      <th>0</th>\n",
       "      <td>project_gutenberg/9999.txt</td>\n",
       "      <td>Sarah H. Bradford</td>\n",
       "      <td>Harriet, The Moses of Her People</td>\n",
       "      <td>1822</td>\n",
       "      <td>0.624214</td>\n",
       "      <td>0.452214</td>\n",
       "      <td>528.796852</td>\n",
       "      <td>0.398840</td>\n",
       "      <td>20.889773</td>\n",
       "      <td>111.791794</td>\n",
       "      <td>1.735272</td>\n",
       "      <td>4.017759</td>\n",
       "      <td>10.845536</td>\n",
       "      <td>0.998584</td>\n",
       "      <td>232.700000</td>\n",
       "      <td>0.640382</td>\n",
       "      <td>0.792910</td>\n",
       "      <td>0.717273</td>\n",
       "      <td>2.338342</td>\n",
       "    </tr>\n",
       "    <tr>\n",
       "      <th>1</th>\n",
       "      <td>project_gutenberg/56195-0.txt</td>\n",
       "      <td>Kenneth Ward</td>\n",
       "      <td>The Boy Volunteers on the Belgian Front</td>\n",
       "      <td>1941</td>\n",
       "      <td>0.585125</td>\n",
       "      <td>0.415000</td>\n",
       "      <td>378.878385</td>\n",
       "      <td>0.397120</td>\n",
       "      <td>14.213115</td>\n",
       "      <td>77.207650</td>\n",
       "      <td>1.752356</td>\n",
       "      <td>2.763206</td>\n",
       "      <td>10.506952</td>\n",
       "      <td>0.997945</td>\n",
       "      <td>232.130435</td>\n",
       "      <td>0.603311</td>\n",
       "      <td>0.811363</td>\n",
       "      <td>0.718462</td>\n",
       "      <td>2.134627</td>\n",
       "    </tr>\n",
       "    <tr>\n",
       "      <th>2</th>\n",
       "      <td>project_gutenberg/51187.txt</td>\n",
       "      <td>John Wilson</td>\n",
       "      <td>A Visit to the Mammoth Cave of Kentucky</td>\n",
       "      <td>1972</td>\n",
       "      <td>0.620000</td>\n",
       "      <td>0.444000</td>\n",
       "      <td>1298.919399</td>\n",
       "      <td>0.428477</td>\n",
       "      <td>27.300300</td>\n",
       "      <td>146.405405</td>\n",
       "      <td>1.720949</td>\n",
       "      <td>4.384384</td>\n",
       "      <td>10.003001</td>\n",
       "      <td>0.998360</td>\n",
       "      <td>222.800000</td>\n",
       "      <td>0.656081</td>\n",
       "      <td>0.777569</td>\n",
       "      <td>0.638938</td>\n",
       "      <td>2.403897</td>\n",
       "    </tr>\n",
       "    <tr>\n",
       "      <th>3</th>\n",
       "      <td>project_gutenberg/51185.txt</td>\n",
       "      <td>Daniel F. Galouye</td>\n",
       "      <td>All Jackson's Children</td>\n",
       "      <td>1970</td>\n",
       "      <td>0.627000</td>\n",
       "      <td>0.486000</td>\n",
       "      <td>1703.701946</td>\n",
       "      <td>0.324357</td>\n",
       "      <td>8.565289</td>\n",
       "      <td>49.239669</td>\n",
       "      <td>1.794130</td>\n",
       "      <td>2.674380</td>\n",
       "      <td>9.511655</td>\n",
       "      <td>0.996898</td>\n",
       "      <td>221.166667</td>\n",
       "      <td>0.586852</td>\n",
       "      <td>0.823569</td>\n",
       "      <td>0.692679</td>\n",
       "      <td>2.098842</td>\n",
       "    </tr>\n",
       "    <tr>\n",
       "      <th>4</th>\n",
       "      <td>project_gutenberg/9997.txt</td>\n",
       "      <td>Francis Parkman</td>\n",
       "      <td>France and England in North America, Part Third</td>\n",
       "      <td>2013</td>\n",
       "      <td>0.686821</td>\n",
       "      <td>0.541750</td>\n",
       "      <td>269.095482</td>\n",
       "      <td>0.372508</td>\n",
       "      <td>21.562230</td>\n",
       "      <td>122.567266</td>\n",
       "      <td>1.868661</td>\n",
       "      <td>4.204856</td>\n",
       "      <td>11.781284</td>\n",
       "      <td>0.998751</td>\n",
       "      <td>241.057143</td>\n",
       "      <td>0.716877</td>\n",
       "      <td>0.837261</td>\n",
       "      <td>0.751203</td>\n",
       "      <td>2.331626</td>\n",
       "    </tr>\n",
       "    <tr>\n",
       "      <th>5</th>\n",
       "      <td>project_gutenberg/9996.txt</td>\n",
       "      <td>Charles Francis Adams</td>\n",
       "      <td>'Tis Sixty Years Since</td>\n",
       "      <td>1814</td>\n",
       "      <td>0.689000</td>\n",
       "      <td>0.525429</td>\n",
       "      <td>1123.982792</td>\n",
       "      <td>0.412379</td>\n",
       "      <td>22.716826</td>\n",
       "      <td>135.894665</td>\n",
       "      <td>2.360974</td>\n",
       "      <td>4.124487</td>\n",
       "      <td>10.880695</td>\n",
       "      <td>0.999149</td>\n",
       "      <td>214.000000</td>\n",
       "      <td>0.671823</td>\n",
       "      <td>0.718001</td>\n",
       "      <td>0.598605</td>\n",
       "      <td>2.411298</td>\n",
       "    </tr>\n",
       "    <tr>\n",
       "      <th>6</th>\n",
       "      <td>project_gutenberg/56190-0.txt</td>\n",
       "      <td>Warren Commission</td>\n",
       "      <td>Warren Commission (14 of 26): Hearings Vol. XI...</td>\n",
       "      <td>1963</td>\n",
       "      <td>0.332608</td>\n",
       "      <td>0.195665</td>\n",
       "      <td>212.461619</td>\n",
       "      <td>0.382709</td>\n",
       "      <td>7.211034</td>\n",
       "      <td>37.233989</td>\n",
       "      <td>1.824845</td>\n",
       "      <td>1.806544</td>\n",
       "      <td>9.316746</td>\n",
       "      <td>0.981190</td>\n",
       "      <td>257.088583</td>\n",
       "      <td>0.685171</td>\n",
       "      <td>0.900294</td>\n",
       "      <td>0.686401</td>\n",
       "      <td>2.003238</td>\n",
       "    </tr>\n",
       "    <tr>\n",
       "      <th>7</th>\n",
       "      <td>project_gutenberg/9995.txt</td>\n",
       "      <td>Marian M. George</td>\n",
       "      <td>A Little Journey to Puerto Rico</td>\n",
       "      <td>2007</td>\n",
       "      <td>0.644000</td>\n",
       "      <td>0.471333</td>\n",
       "      <td>837.998946</td>\n",
       "      <td>0.409068</td>\n",
       "      <td>14.524590</td>\n",
       "      <td>80.180328</td>\n",
       "      <td>1.754010</td>\n",
       "      <td>2.718460</td>\n",
       "      <td>10.896416</td>\n",
       "      <td>0.998974</td>\n",
       "      <td>246.869565</td>\n",
       "      <td>0.723873</td>\n",
       "      <td>0.794841</td>\n",
       "      <td>0.726814</td>\n",
       "      <td>2.150615</td>\n",
       "    </tr>\n",
       "    <tr>\n",
       "      <th>8</th>\n",
       "      <td>project_gutenberg/51183-0.txt</td>\n",
       "      <td>George Grote</td>\n",
       "      <td>History of Greece, Volume 10 (of 12)</td>\n",
       "      <td>2018</td>\n",
       "      <td>0.678575</td>\n",
       "      <td>0.524642</td>\n",
       "      <td>180.798344</td>\n",
       "      <td>0.350970</td>\n",
       "      <td>15.716207</td>\n",
       "      <td>95.380218</td>\n",
       "      <td>2.143120</td>\n",
       "      <td>2.827180</td>\n",
       "      <td>12.209676</td>\n",
       "      <td>0.999341</td>\n",
       "      <td>245.503968</td>\n",
       "      <td>0.736571</td>\n",
       "      <td>0.807329</td>\n",
       "      <td>0.674299</td>\n",
       "      <td>2.284798</td>\n",
       "    </tr>\n",
       "    <tr>\n",
       "      <th>9</th>\n",
       "      <td>project_gutenberg/5619-0.txt</td>\n",
       "      <td>William Petty</td>\n",
       "      <td>Essays on Mankind and Political Arithmetic</td>\n",
       "      <td>1899</td>\n",
       "      <td>0.533643</td>\n",
       "      <td>0.367429</td>\n",
       "      <td>506.564690</td>\n",
       "      <td>0.407927</td>\n",
       "      <td>24.473765</td>\n",
       "      <td>136.352623</td>\n",
       "      <td>1.819653</td>\n",
       "      <td>4.456790</td>\n",
       "      <td>10.645643</td>\n",
       "      <td>0.998158</td>\n",
       "      <td>205.694444</td>\n",
       "      <td>0.707252</td>\n",
       "      <td>0.778920</td>\n",
       "      <td>0.696943</td>\n",
       "      <td>2.465841</td>\n",
       "    </tr>\n",
       "  </tbody>\n",
       "</table>\n",
       "</div>"
      ],
      "text/plain": [
       "                            file                 author  \\\n",
       "0     project_gutenberg/9999.txt      Sarah H. Bradford   \n",
       "1  project_gutenberg/56195-0.txt           Kenneth Ward   \n",
       "2    project_gutenberg/51187.txt            John Wilson   \n",
       "3    project_gutenberg/51185.txt      Daniel F. Galouye   \n",
       "4     project_gutenberg/9997.txt        Francis Parkman   \n",
       "5     project_gutenberg/9996.txt  Charles Francis Adams   \n",
       "6  project_gutenberg/56190-0.txt      Warren Commission   \n",
       "7     project_gutenberg/9995.txt       Marian M. George   \n",
       "8  project_gutenberg/51183-0.txt           George Grote   \n",
       "9   project_gutenberg/5619-0.txt          William Petty   \n",
       "\n",
       "                                               title  year      sttr  \\\n",
       "0                   Harriet, The Moses of Her People  1822  0.624214   \n",
       "1            The Boy Volunteers on the Belgian Front  1941  0.585125   \n",
       "2            A Visit to the Mammoth Cave of Kentucky  1972  0.620000   \n",
       "3                             All Jackson's Children  1970  0.627000   \n",
       "4    France and England in North America, Part Third  2013  0.686821   \n",
       "5                             'Tis Sixty Years Since  1814  0.689000   \n",
       "6  Warren Commission (14 of 26): Hearings Vol. XI...  1963  0.332608   \n",
       "7                    A Little Journey to Puerto Rico  2007  0.644000   \n",
       "8               History of Greece, Volume 10 (of 12)  2018  0.678575   \n",
       "9         Essays on Mankind and Political Arithmetic  1899  0.533643   \n",
       "\n",
       "   hapax_legomenon      yules_k  function_words  avg_sentence_length_word  \\\n",
       "0         0.452214   528.796852        0.398840                 20.889773   \n",
       "1         0.415000   378.878385        0.397120                 14.213115   \n",
       "2         0.444000  1298.919399        0.428477                 27.300300   \n",
       "3         0.486000  1703.701946        0.324357                  8.565289   \n",
       "4         0.541750   269.095482        0.372508                 21.562230   \n",
       "5         0.525429  1123.982792        0.412379                 22.716826   \n",
       "6         0.195665   212.461619        0.382709                  7.211034   \n",
       "7         0.471333   837.998946        0.409068                 14.524590   \n",
       "8         0.524642   180.798344        0.350970                 15.716207   \n",
       "9         0.367429   506.564690        0.407927                 24.473765   \n",
       "\n",
       "   avg_sentence_length_chars  avg_syllables_per_word  punctuation_sentence  \\\n",
       "0                 111.791794                1.735272              4.017759   \n",
       "1                  77.207650                1.752356              2.763206   \n",
       "2                 146.405405                1.720949              4.384384   \n",
       "3                  49.239669                1.794130              2.674380   \n",
       "4                 122.567266                1.868661              4.204856   \n",
       "5                 135.894665                2.360974              4.124487   \n",
       "6                  37.233989                1.824845              1.806544   \n",
       "7                  80.180328                1.754010              2.718460   \n",
       "8                  95.380218                2.143120              2.827180   \n",
       "9                 136.352623                1.819653              4.456790   \n",
       "\n",
       "   shannon_entropy  simpsons_d  average_nps  noun_to_verb  noun_to_adj  \\\n",
       "0        10.845536    0.998584   232.700000      0.640382     0.792910   \n",
       "1        10.506952    0.997945   232.130435      0.603311     0.811363   \n",
       "2        10.003001    0.998360   222.800000      0.656081     0.777569   \n",
       "3         9.511655    0.996898   221.166667      0.586852     0.823569   \n",
       "4        11.781284    0.998751   241.057143      0.716877     0.837261   \n",
       "5        10.880695    0.999149   214.000000      0.671823     0.718001   \n",
       "6         9.316746    0.981190   257.088583      0.685171     0.900294   \n",
       "7        10.896416    0.998974   246.869565      0.723873     0.794841   \n",
       "8        12.209676    0.999341   245.503968      0.736571     0.807329   \n",
       "9        10.645643    0.998158   205.694444      0.707252     0.778920   \n",
       "\n",
       "   verb_to_adv  avg_dependency_distance  \n",
       "0     0.717273                 2.338342  \n",
       "1     0.718462                 2.134627  \n",
       "2     0.638938                 2.403897  \n",
       "3     0.692679                 2.098842  \n",
       "4     0.751203                 2.331626  \n",
       "5     0.598605                 2.411298  \n",
       "6     0.686401                 2.003238  \n",
       "7     0.726814                 2.150615  \n",
       "8     0.674299                 2.284798  \n",
       "9     0.696943                 2.465841  "
      ]
     },
     "execution_count": 17,
     "metadata": {},
     "output_type": "execute_result"
    }
   ],
   "source": [
    "df.head(10)"
   ]
  },
  {
   "cell_type": "code",
   "execution_count": 18,
   "metadata": {},
   "outputs": [
    {
     "data": {
      "text/plain": [
       "file                            0\n",
       "author                          0\n",
       "title                           0\n",
       "year                            0\n",
       "sttr                         6345\n",
       "hapax_legomenon              6345\n",
       "yules_k                      6005\n",
       "function_words               6005\n",
       "avg_sentence_length_word     6005\n",
       "avg_sentence_length_chars    6005\n",
       "avg_syllables_per_word       6005\n",
       "punctuation_sentence         6005\n",
       "shannon_entropy              6005\n",
       "simpsons_d                   6005\n",
       "average_nps                  6124\n",
       "noun_to_verb                 6005\n",
       "noun_to_adj                  6005\n",
       "verb_to_adv                  6005\n",
       "avg_dependency_distance      6005\n",
       "dtype: int64"
      ]
     },
     "execution_count": 18,
     "metadata": {},
     "output_type": "execute_result"
    }
   ],
   "source": [
    "df.isnull().sum()"
   ]
  },
  {
   "cell_type": "code",
   "execution_count": 24,
   "metadata": {},
   "outputs": [
    {
     "name": "stdout",
     "output_type": "stream",
     "text": [
      "{'_id': ObjectId('5e1842319736a0f9dcdc91e2'), 'file': 'project_gutenberg/54492.txt', 'author': 'Joseph Pike', 'title': 'Chester; A Sketch-Book', 'year': '1915'}\n"
     ]
    }
   ],
   "source": [
    "for doc in collection.find({'file': 'project_gutenberg/54492.txt'}, {'text': 0}):\n",
    "    print(doc)"
   ]
  },
  {
   "cell_type": "code",
   "execution_count": null,
   "metadata": {},
   "outputs": [],
   "source": []
  },
  {
   "cell_type": "code",
   "execution_count": 37,
   "metadata": {},
   "outputs": [],
   "source": [
    "df.to_csv('metrics.csv', index=False)"
   ]
  },
  {
   "cell_type": "code",
   "execution_count": null,
   "metadata": {},
   "outputs": [],
   "source": []
  }
 ],
 "metadata": {
  "kernelspec": {
   "display_name": "Python 3",
   "language": "python",
   "name": "python3"
  },
  "language_info": {
   "codemirror_mode": {
    "name": "ipython",
    "version": 3
   },
   "file_extension": ".py",
   "mimetype": "text/x-python",
   "name": "python",
   "nbconvert_exporter": "python",
   "pygments_lexer": "ipython3",
   "version": "3.7.5"
  }
 },
 "nbformat": 4,
 "nbformat_minor": 2
}
